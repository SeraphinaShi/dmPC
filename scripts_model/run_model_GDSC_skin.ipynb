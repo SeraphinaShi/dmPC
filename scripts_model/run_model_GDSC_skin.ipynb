{
 "cells": [
  {
   "cell_type": "markdown",
   "metadata": {},
   "source": [
    "# 0. Setup"
   ]
  },
  {
   "cell_type": "markdown",
   "metadata": {},
   "source": []
  },
  {
   "cell_type": "code",
   "execution_count": null,
   "metadata": {},
   "outputs": [],
   "source": [
    "# pip install --user GitPython\n",
    "# pip install --user rdkit"
   ]
  },
  {
   "cell_type": "code",
   "execution_count": null,
   "metadata": {},
   "outputs": [],
   "source": [
    "# Verify we're in the correct working directory\n",
    "import os\n",
    "import git \n",
    "from pathlib import Path\n",
    "\n",
    "def get_project_root():\n",
    "    return Path(git.Repo('.', search_parent_directories=True).working_tree_dir)\n",
    "\n",
    "root = get_project_root()\n",
    "\n",
    "os.chdir(root)\n",
    "os.getcwd()"
   ]
  },
  {
   "cell_type": "code",
   "execution_count": null,
   "metadata": {},
   "outputs": [],
   "source": [
    "plot_folder = \"images/GDSC/\""
   ]
  },
  {
   "cell_type": "markdown",
   "metadata": {},
   "source": [
    "## import packages, models, trainers"
   ]
  },
  {
   "cell_type": "code",
   "execution_count": null,
   "metadata": {},
   "outputs": [],
   "source": [
    "import argparse\n",
    "import logging\n",
    "import sys\n",
    "import time\n",
    "import warnings\n",
    "\n",
    "import numpy as np\n",
    "import pandas as pd\n",
    "import matplotlib.pyplot as plt; plt.rcParams['figure.dpi'] = 200\n",
    "\n",
    "import torch\n",
    "from torch import nn, optim, Tensor\n",
    "from torch.nn import functional as F\n",
    "from torch.optim import lr_scheduler\n",
    "from torch.utils.data import DataLoader, TensorDataset\n",
    "\n",
    "from sklearn.model_selection import train_test_split\n",
    "from sklearn.metrics import log_loss\n",
    "from sklearn.metrics import confusion_matrix\n",
    "from sklearn.metrics import roc_auc_score\n",
    "\n",
    "print('pytorch version:', torch.__version__)\n",
    "print('orig num threads:', torch.get_num_threads())"
   ]
  },
  {
   "cell_type": "code",
   "execution_count": null,
   "metadata": {},
   "outputs": [],
   "source": [
    "from models import *\n",
    "from trainers import *\n",
    "from losses import *\n",
    "from utils import *\n",
    "# from cpd_smiles_embed import *"
   ]
  },
  {
   "cell_type": "code",
   "execution_count": null,
   "metadata": {},
   "outputs": [],
   "source": [
    "import random\n",
    "seed=42\n",
    "\n",
    "torch.manual_seed(seed)\n",
    "torch.cuda.manual_seed(seed)\n",
    "torch.cuda.manual_seed_all(seed)\n",
    "\n",
    "random.seed(seed)\n",
    "np.random.seed(seed)\n",
    "os.environ['PYTHONHASHSEED'] = str(seed)\n",
    "\n",
    "torch.backends.cudnn.deterministic = True\n",
    "torch.backends.cudnn.benchmark = False"
   ]
  },
  {
   "cell_type": "markdown",
   "metadata": {},
   "source": [
    "# 1. Prepare dataset"
   ]
  },
  {
   "cell_type": "markdown",
   "metadata": {},
   "source": [
    "## Load "
   ]
  },
  {
   "cell_type": "code",
   "execution_count": null,
   "metadata": {},
   "outputs": [],
   "source": [
    "data_folder = \"data/GDSC\"\n",
    "c_data = pd.read_csv(os.path.join(data_folder, \"c_data.csv\"), index_col = 0)\n",
    "c_meta = pd.read_csv(os.path.join(data_folder, \"c_meta.csv\"), index_col = 0)\n",
    "# RNAseq_meta['COSMIC_ID'] = RNAseq_meta['COSMIC_ID'].astype(int)\n",
    "\n",
    "d_data = pd.read_csv(os.path.join(data_folder, \"d_data.csv\"), index_col = 0)\n",
    "\n",
    "cdr = pd.read_csv(os.path.join(data_folder, \"cdr.csv\"), index_col = 0)"
   ]
  },
  {
   "cell_type": "code",
   "execution_count": null,
   "metadata": {},
   "outputs": [],
   "source": [
    "cdr.shape"
   ]
  },
  {
   "cell_type": "markdown",
   "metadata": {},
   "source": [
    "## Prepare data\n",
    "Skin cancer"
   ]
  },
  {
   "cell_type": "code",
   "execution_count": null,
   "metadata": {},
   "outputs": [],
   "source": [
    "c_types = [\"SKCM\"] \n",
    "\n",
    "c_meta = c_meta[c_meta[\"cancer_type\"].isin(c_types)]\n",
    "c_data = c_data[c_data.index.isin(c_meta[\"COSMIC_ID\"])]\n",
    "cdr = cdr[cdr.index.isin(c_meta[\"COSMIC_ID\"])]"
   ]
  },
  {
   "cell_type": "code",
   "execution_count": null,
   "metadata": {},
   "outputs": [],
   "source": [
    "cdr.shape"
   ]
  },
  {
   "cell_type": "code",
   "execution_count": null,
   "metadata": {},
   "outputs": [],
   "source": [
    "# 1. prepare c_meta, \n",
    "c_meta_id_col_name = 'COSMIC_ID'\n",
    "c_meta_type_col_name = 'cancer_type'\n",
    "\n",
    "c_meta = c_meta[[c_meta_id_col_name, c_meta_type_col_name]]\n",
    "c_meta = c_meta.rename(columns = {c_meta_id_col_name:'C_ID', c_meta_type_col_name:'C_type'})\n",
    "c_meta = c_meta[~c_meta['C_ID'].isnull()]\n",
    "\n",
    "c_meta, meta_map = get_CCL_meta_codes(c_data.index.values, c_meta)\n",
    "c_meta.index = c_meta.index.astype(str)\n",
    "\n",
    "print(f\"Cancer type coding map: \")\n",
    "print(meta_map)"
   ]
  },
  {
   "cell_type": "code",
   "execution_count": null,
   "metadata": {},
   "outputs": [],
   "source": [
    "column_counts = c_meta['code'].value_counts()\n",
    "print(column_counts)"
   ]
  },
  {
   "cell_type": "code",
   "execution_count": null,
   "metadata": {},
   "outputs": [],
   "source": [
    "# 2. prepare c_data\n",
    "## make sure: \n",
    "##   1. the index (row names) is cancer cell line names\n",
    "c_data.index = c_data.index.astype(str)\n",
    "c_data.shape"
   ]
  },
  {
   "cell_type": "code",
   "execution_count": null,
   "metadata": {},
   "outputs": [],
   "source": [
    "# 3. prepare d_data\n",
    "## make sure: \n",
    "##   1. the index (row names) is drug names\n",
    "# cpd_smiles = cpd_smiles[['drug_id', 'smiles']]\n",
    "# cpd_smiles = cpd_smiles.set_index('drug_id')\n",
    "\n",
    "# d_data = smiles_to_AtonBondDescriptor_PCAembedings(cpd_smiles)\n",
    "d_data.index = d_data.index.astype(str)\n",
    "\n",
    "d_data.shape"
   ]
  },
  {
   "cell_type": "code",
   "execution_count": null,
   "metadata": {},
   "outputs": [],
   "source": [
    "# 4. prepare cdr\n",
    "## make sure: \n",
    "##   1. the index (row names) is cancer cell line names\n",
    "##   2. the columns (column names) is drug names\n",
    "cdr.index = cdr.index.astype(\"str\")\n",
    "\n",
    "common_drugs = list(set(cdr.columns).intersection(set(d_data.index)))\n",
    "cdr = cdr[common_drugs]\n",
    "d_data = d_data.loc[common_drugs]\n",
    "\n",
    "common_cancers = list(set(cdr.index).intersection(set(c_data.index)))\n",
    "cdr = cdr.loc[common_cancers]\n",
    "c_data = c_data.loc[common_cancers]\n",
    "c_meta = c_meta.loc[common_cancers]\n",
    "\n",
    "print(f'cdr shape: {cdr.shape}')\n",
    "print(f'c_data shape: {c_data.shape}')\n",
    "print(f'c_meta shape: {c_meta.shape}')\n",
    "print(f'd_data shape: {d_data.shape}')"
   ]
  },
  {
   "cell_type": "code",
   "execution_count": null,
   "metadata": {},
   "outputs": [],
   "source": [
    "c_meta.head()"
   ]
  },
  {
   "cell_type": "markdown",
   "metadata": {},
   "source": [
    "# 2. Hyperparameters"
   ]
  },
  {
   "cell_type": "code",
   "execution_count": null,
   "metadata": {},
   "outputs": [],
   "source": [
    "device = torch.device(\"cuda:0\" if torch.cuda.is_available() else \"cpu\")\n",
    "# torch.cuda.set_device(device)\n",
    "print(device)"
   ]
  },
  {
   "cell_type": "code",
   "execution_count": null,
   "metadata": {},
   "outputs": [],
   "source": [
    "class Train_Args:\n",
    "    def __getitem__(self, key):\n",
    "        return getattr(self, key)\n",
    "    def __setitem__(self, key, val):\n",
    "        setattr(self, key, val)\n",
    "    def __contains__(self, key):\n",
    "        return hasattr(self, key)\n",
    "\n",
    "    valid_size = 0.2 #@param {type: \"float\"}\n",
    "\n",
    "    n_epochs = 100 #@param {type: \"integer\"}\n",
    "    batch_size = 50 #@param {type: \"integer\"}\n",
    "    lr = 0.01 #@param {type: \"float\"}\n",
    "    \n",
    "    C_VAE_loss_weight = 0.5 #@param {type: \"float\"}\n",
    "    C_recon_loss_weight = 0.05 #@param {type: \"float\"}\n",
    "    C_kld_weight = 0.5 #@param {type: \"float\"}\n",
    "    C_cluster_distance_weight = 200 #@param {type: \"float\"}\n",
    "    C_update_ratio_weight = 10 #@param {type: \"float\"}\"}\n",
    "    \n",
    "    D_VAE_loss_weight = 1 #@param {type: \"float\"}\n",
    "    D_recon_loss_weight = 1 #@param {type: \"float\"}\n",
    "    D_kld_weight = 0.5 #@param {type: \"float\"}\n",
    "    D_cluster_distance_weight = 100 #@param {type: \"float\"}\n",
    "    D_update_ratio_weight = 10 #@param {type: \"float\"}\n",
    "    \n",
    "    predict_loss_weight = 4000 #@param {type: \"float\"}\n",
    "    \n",
    "    cVAE_save_path = 'data/model_fits/GDSC_skin_c_vae' #@param\n",
    "    dVAE_save_path = 'data/model_fits/GDSC_skin_d_vae_skin' #@param\n",
    "    \n",
    "    c_p_save_path = 'data/model_fits/GDSC_skin_c_vae_predictor' #@param\n",
    "    d_p_save_path = 'data/model_fits/GDSC_skin_d_vae_predictor' #@param\n",
    "\n",
    "\n",
    "\n",
    "class CDPModel_sub_Args:\n",
    "    def __getitem__(self, key):\n",
    "        return getattr(self, key)\n",
    "    def __setitem__(self, key, val):\n",
    "        setattr(self, key, val)\n",
    "    def __contains__(self, key):\n",
    "        return hasattr(self, key)\n",
    "\n",
    "    # c_VAE\n",
    "    c_input_dim = 0 #@param {type: \"integer\"}\n",
    "    c_h_dims = [1024, 512, 256, 128] #@param {type: \"vactor\"}\n",
    "    c_latent_dim = 32 #@param {type: \"integer\"}\n",
    "\n",
    "    # d_VAE\n",
    "    d_input_dim = 0 #@param {type: \"integer\"}\n",
    "    d_h_dims = [64]  #@param {type: \"vactor\"}\n",
    "    d_latent_dim = 32 #@param {type: \"integer\"}\n",
    "\n",
    "    # predictor\n",
    "    p_sec_dim = 16 #@param {type: \"integer\"}\n",
    "    p_h_dims = [p_sec_dim*2, 16]  #@param {type: \"vactor\"}\n",
    "    \n",
    "    # all\n",
    "    drop_out = 0  #@param {type: \"float\"}\n",
    "    \n",
    "    # sensitive threshold\n",
    "    sens_cutoff = 0.5\n",
    "    \n"
   ]
  },
  {
   "cell_type": "code",
   "execution_count": null,
   "metadata": {},
   "outputs": [],
   "source": [
    "train_args = Train_Args()\n",
    "\n",
    "K = len(c_meta[c_meta['code'] != -1]['code'].unique())\n",
    "\n",
    "CDPmodel_args = CDPModel_sub_Args()\n",
    "CDPmodel_args['c_input_dim'] = c_data.shape[1] \n",
    "CDPmodel_args['d_input_dim'] = d_data.shape[1]\n",
    "\n",
    "if CDPmodel_args['c_input_dim'] <= 0:\n",
    "  warnings.warn(\n",
    "      '''\\nCancer Cell line feature number not specified''')\n",
    "if CDPmodel_args['d_input_dim'] <= 0:\n",
    "  warnings.warn(\n",
    "      '''\\nDrug feature number not specified''')"
   ]
  },
  {
   "cell_type": "code",
   "execution_count": null,
   "metadata": {},
   "outputs": [],
   "source": []
  },
  {
   "cell_type": "code",
   "execution_count": null,
   "metadata": {},
   "outputs": [],
   "source": []
  },
  {
   "cell_type": "markdown",
   "metadata": {},
   "source": [
    "# 3. Train Model"
   ]
  },
  {
   "cell_type": "code",
   "execution_count": null,
   "metadata": {},
   "outputs": [],
   "source": [
    "CDPmodel = CDPmodel(K, CDPmodel_args)\n"
   ]
  },
  {
   "cell_type": "code",
   "execution_count": null,
   "metadata": {},
   "outputs": [],
   "source": [
    "n_rounds = 5\n",
    "fit_returns = CDPmodel.fit(c_data, c_meta, d_data, cdr, train_args, n_rounds=n_rounds, search_subcluster=True, device = device)"
   ]
  },
  {
   "cell_type": "code",
   "execution_count": null,
   "metadata": {},
   "outputs": [],
   "source": [
    "c_meta, c_meta_hist, d_sens_hist, losses_train_hist_list, best_epos_list, C_VAE_init_losses, D_VAE_init_losses, c_latent_list, d_latent_list = fit_returns\n"
   ]
  },
  {
   "cell_type": "code",
   "execution_count": null,
   "metadata": {},
   "outputs": [],
   "source": [
    "best_epos_list"
   ]
  },
  {
   "cell_type": "markdown",
   "metadata": {},
   "source": [
    "# 4. Results and visualizations"
   ]
  },
  {
   "cell_type": "code",
   "execution_count": null,
   "metadata": {},
   "outputs": [],
   "source": [
    "cdr_hat = CDPmodel.predict(c_data, d_data)"
   ]
  },
  {
   "cell_type": "code",
   "execution_count": null,
   "metadata": {},
   "outputs": [],
   "source": [
    "cdr_train_hat = cdr_hat\n",
    "\n",
    "cdr_train_rslt = cdr.copy()\n",
    "cdr_train_rslt['c_name'] = cdr_train_rslt.index.values\n",
    "cdr_train_rslt = pd.melt(cdr_train_rslt, id_vars='c_name', value_vars=None, var_name=None, value_name='value', col_level=None)\n",
    "cdr_train_rslt = cdr_train_rslt.rename(columns={'variable':'d_name', 'value':'cdr'})\n",
    "\n",
    "cdr_train_rslt = pd.merge(cdr_train_rslt, cdr_train_hat, on=['c_name', 'd_name'], how='outer')"
   ]
  },
  {
   "cell_type": "code",
   "execution_count": null,
   "metadata": {},
   "outputs": [],
   "source": [
    "from sklearn.metrics import log_loss\n",
    "from sklearn.metrics import confusion_matrix\n",
    "from sklearn.metrics import roc_auc_score\n",
    "\n",
    "# Binary cross entropy\n",
    "cdr_train_rslt_noNA = cdr_train_rslt.dropna(subset=['cdr_hat', 'cdr'])\n",
    "binary_cross_entropy_train = log_loss(cdr_train_rslt_noNA['cdr'], cdr_train_rslt_noNA['cdr_hat'])\n",
    "print(f\"Binary cross entropy: {round(binary_cross_entropy_train,4)}\")\n",
    "\n",
    "\n",
    "# Area Under the Curve (AUC) for a Receiver Operating Characteristic (ROC) \n",
    "roc_auc = roc_auc_score(cdr_train_rslt_noNA['cdr'], cdr_train_rslt_noNA['cdr_hat'])\n",
    "print(\"ROC AUC:\", round(roc_auc, 4))\n",
    "\n",
    "# confusion_ atrix\n",
    "cdr_train_rslt_noNA['cdr_hat_bnr'] = (cdr_train_rslt_noNA['cdr_hat'] > 0.5).astype(int)\n",
    "\n",
    "conf_matrix = confusion_matrix(cdr_train_rslt_noNA['cdr'], cdr_train_rslt_noNA['cdr_hat_bnr'])\n",
    "tn, fp, fn, tp = conf_matrix.ravel()\n",
    "\n",
    "print(f\"\\nTrue Positive:  {tp} ({(tp / (tp + fn)) * 100:.2f} %)\")\n",
    "print(f\"False Negative: {fn} ({(fn / (fn + tp)) * 100:.2f} %)\")\n",
    "\n",
    "print(f\"True Negative:  {tn} ({(tn / (tn + fp)) * 100:.2f} %)\")\n",
    "print(f\"False Positive: {fp} ({(fp / (fp + tn)) * 100:.2f} %)\")"
   ]
  },
  {
   "cell_type": "code",
   "execution_count": null,
   "metadata": {},
   "outputs": [],
   "source": [
    "# output data\n",
    "\n",
    "cdr_hat.to_csv(os.path.join(data_folder, \"skin/GDSC_skin_cdr_hat.csv\"), index=True)\n",
    "\n",
    "c_latent = pd.DataFrame(c_latent_list[0][n_rounds-1])\n",
    "c_latent.index = c_data.index\n",
    "c_latent.to_csv(os.path.join(data_folder, \"skin/GDSC_skin_c_latent_cluster1.csv\"), index=True)\n",
    "\n",
    "if CDPmodel.K == 2:\n",
    "    c_latent_1 = pd.DataFrame(c_latent_list[1][n_rounds-1])\n",
    "    c_latent_1.index = c_data.index\n",
    "    c_latent_1.to_csv(os.path.join(data_folder, \"skin/GDSC_skin_c_latent_cluster2.csv\"), index=True)\n",
    "\n",
    "    d_latent_1 = pd.DataFrame(d_latent_list[1][n_rounds-1])\n",
    "    d_latent_1.index = d_data.index\n",
    "    d_latent_1.to_csv(os.path.join(data_folder, \"skin/GDSC_skin_d_latent_cluster2.csv\"), index=True)\n",
    "    \n",
    "d_latent = pd.DataFrame(d_latent_list[0][n_rounds-1])\n",
    "d_latent.index = d_data.index\n",
    "d_latent.to_csv(os.path.join(data_folder, \"skin/GDSC_skin_d_latent_cluster1.csv\"), index=True)"
   ]
  },
  {
   "cell_type": "code",
   "execution_count": null,
   "metadata": {},
   "outputs": [],
   "source": [
    "cdr_train_hat = CDPmodel.predict(c_data, d_data)\n",
    "\n",
    "cdr_train_rslt = cdr.copy()\n",
    "cdr_train_rslt['c_name'] = cdr_train_rslt.index.values\n",
    "cdr_train_rslt = pd.melt(cdr_train_rslt, id_vars='c_name', value_vars=None, var_name=None, value_name='value', col_level=None)\n",
    "cdr_train_rslt = cdr_train_rslt.rename(columns={'variable':'d_name', 'value':'cdr'})\n",
    "\n",
    "\n",
    "cdr_train_rslt = pd.merge(cdr_train_rslt, cdr_train_hat, on=['c_name', 'd_name'], how='outer')\n",
    "\n",
    "cdr_train_rslt"
   ]
  },
  {
   "cell_type": "markdown",
   "metadata": {},
   "source": [
    "## Clusters"
   ]
  },
  {
   "cell_type": "code",
   "execution_count": null,
   "metadata": {
    "scrolled": true
   },
   "outputs": [],
   "source": [
    "print('Cancer clustering before:')\n",
    "print(c_meta_hist.code.value_counts())\n",
    "print('Cancer clustering after:')\n",
    "print(c_meta_hist.code_sub_latest.value_counts())"
   ]
  },
  {
   "cell_type": "code",
   "execution_count": null,
   "metadata": {},
   "outputs": [],
   "source": [
    "c_meta_train_tmp = c_meta.loc[:, ['code']]\n",
    "c_meta_train_tmp['c_name'] = c_meta_train_tmp.index.values.astype(str)\n",
    "c_meta_train_tmp = c_meta_train_tmp.rename(columns={'code':'cluster_init'})\n",
    "\n",
    "cdr_train_rslt_tmp = cdr_train_rslt[['c_name', 'cluster']]\n",
    "cdr_train_rslt_tmp = cdr_train_rslt_tmp.drop_duplicates()\n",
    "cdr_train_rslt_tmp['c_name'] = cdr_train_rslt_tmp['c_name'].astype(str)\n",
    "\n",
    "cdr_train_rslt_cluster = pd.merge(cdr_train_rslt_tmp, c_meta_train_tmp, on='c_name', how='left')\n",
    "\n",
    "print(\"CD-bicluster:\")\n",
    "print(pd.crosstab(cdr_train_rslt_cluster['cluster_init'], cdr_train_rslt_cluster['cluster']))\n",
    "\n"
   ]
  },
  {
   "cell_type": "code",
   "execution_count": null,
   "metadata": {},
   "outputs": [],
   "source": [
    "cdr_train_rslt_tmp = cdr_train_rslt[['c_name', 'c_cluster']]\n",
    "cdr_train_rslt_tmp = cdr_train_rslt_tmp.drop_duplicates()\n",
    "cdr_train_rslt_tmp['c_name'] = cdr_train_rslt_tmp['c_name'].astype(str)\n",
    "\n",
    "cdr_train_rslt_cluster = pd.merge(cdr_train_rslt_tmp, c_meta_train_tmp, on='c_name', how='left')\n",
    "\n",
    "print(\"Cancer cluster:\")\n",
    "print(pd.crosstab(cdr_train_rslt_cluster['cluster_init'], cdr_train_rslt_cluster['c_cluster']))\n"
   ]
  },
  {
   "cell_type": "code",
   "execution_count": null,
   "metadata": {},
   "outputs": [],
   "source": [
    "d_sens_hist"
   ]
  },
  {
   "cell_type": "code",
   "execution_count": null,
   "metadata": {},
   "outputs": [],
   "source": [
    "print('Sensitive to clusters before:')\n",
    "print(d_sens_hist.sensitive_k.value_counts())\n",
    "print('Sensitive to clusters after:')\n",
    "print(d_sens_hist.sensitive_k_sub_latest.value_counts())"
   ]
  },
  {
   "cell_type": "markdown",
   "metadata": {},
   "source": [
    "## Visualizations"
   ]
  },
  {
   "cell_type": "code",
   "execution_count": null,
   "metadata": {},
   "outputs": [],
   "source": [
    "import matplotlib.pyplot as plt\n",
    "import numpy as np\n",
    "from sklearn.decomposition import PCA\n",
    "import seaborn as sns\n",
    "\n",
    "from visuals import *"
   ]
  },
  {
   "cell_type": "code",
   "execution_count": null,
   "metadata": {},
   "outputs": [],
   "source": [
    "# plot_c_PCA_latent(c_data, n_rounds, fit_returns, model=CDPmodel, plots_save_path=f'results/images/GDSC/GDSC_skin_c_latent')\n",
    "\n",
    "plots_save_path = 'results/images/GDSC/GDSC_skin_c_latent'\n",
    "for k in CDPmodel.which_non_empty_cluster:\n",
    "    if k in CDPmodel.which_non_empty_subcluster:\n",
    "        k_sub = CDPmodel.cluster_id_for_subcluster[CDPmodel.which_non_empty_subcluster.index(k)]\n",
    "        plot_c_PCA_latent_help(c_data, c_latent_list, c_meta_hist, n_rounds, k=k, k_sub = k_sub, plot_save_path=f'{plots_save_path}_k{k}.png')\n",
    "    else:\n",
    "        plot_c_PCA_latent_help(c_data, c_latent_list, c_meta_hist, n_rounds, k=k, plot_save_path=f'{plots_save_path}_k{k}.png')\n"
   ]
  },
  {
   "cell_type": "code",
   "execution_count": null,
   "metadata": {},
   "outputs": [],
   "source": [
    "plot_d_PCA_latent(d_data, n_rounds, fit_returns, model=CDPmodel, plots_save_path=f'results/images/GDSC/GDSC_skin_d_latent')\n"
   ]
  },
  {
   "cell_type": "markdown",
   "metadata": {},
   "source": [
    "### Losses:"
   ]
  },
  {
   "cell_type": "code",
   "execution_count": null,
   "metadata": {
    "scrolled": false
   },
   "outputs": [],
   "source": [
    "for k in range(CDPmodel.K):\n",
    "    print(f'k = {k}:')\n",
    "    for b in range(n_rounds):\n",
    "        print(f'round {b}:')\n",
    "        plot_training_losses_train_test_2cols(losses_train_hist_list[k][b], best_epoch_1round = best_epos_list[k][b],\n",
    "                                              plot_save_path=f'results/images/GDSC/GDSC_skin_losses_b{b}_k{k}.png')\n",
    "        \n",
    "        "
   ]
  },
  {
   "cell_type": "code",
   "execution_count": null,
   "metadata": {
    "scrolled": false
   },
   "outputs": [],
   "source": [
    "for k in range(CDPmodel.K):\n",
    "    print(f'k = {k}:')\n",
    "    for b in range(n_rounds):\n",
    "        print(f'round {b}:')\n",
    "        plot_pre_training_losses_train_test_2cols(losses_train_hist_list[k][b], best_epoch_1round = best_epos_list[k][b])\n",
    "        "
   ]
  },
  {
   "cell_type": "code",
   "execution_count": null,
   "metadata": {},
   "outputs": [],
   "source": [
    "cdr_hat"
   ]
  },
  {
   "cell_type": "code",
   "execution_count": null,
   "metadata": {},
   "outputs": [],
   "source": [
    "cdr_hat_wide = cdr_hat.pivot(index='c_name', columns='d_name', values='cdr_hat').astype(float).reset_index()\n",
    "cdr_hat_wide.index = cdr_hat_wide['c_name']\n",
    "cdr_hat_wide = cdr_hat_wide.drop('c_name', axis=1)\n",
    "\n",
    "cdr_hat_wide"
   ]
  },
  {
   "cell_type": "markdown",
   "metadata": {},
   "source": [
    "# Heatmap"
   ]
  },
  {
   "cell_type": "code",
   "execution_count": null,
   "metadata": {},
   "outputs": [],
   "source": [
    "import seaborn as sns\n",
    "import matplotlib.pyplot as plt\n",
    "from matplotlib.colors import LinearSegmentedColormap"
   ]
  },
  {
   "cell_type": "code",
   "execution_count": null,
   "metadata": {},
   "outputs": [],
   "source": [
    "\n",
    "fig, ax = plt.subplots(figsize=(15, 5))\n",
    "sns.heatmap(cdr, \n",
    "            cmap=\"RdYlGn\",\n",
    "            cbar_kws={'label': 'Sensitivity'})"
   ]
  },
  {
   "cell_type": "code",
   "execution_count": null,
   "metadata": {},
   "outputs": [],
   "source": [
    "# Convert non-numeric values to NaN\n",
    "\n",
    "sns.heatmap(cdr_hat_wide, \n",
    "            cmap=\"RdYlGn\",\n",
    "            cbar_kws={'label': 'Sensitivity'})"
   ]
  },
  {
   "cell_type": "code",
   "execution_count": null,
   "metadata": {},
   "outputs": [],
   "source": [
    "cdr_array = np.array(cdr)\n",
    "\n",
    "# Create a mask for missing values\n",
    "mask = np.isnan(cdr_array)\n",
    "\n",
    "# Replace missing values with a placeholder (e.g., -1)\n",
    "cdr_array_with_placeholder = np.where(mask, -1, cdr_array)\n",
    "\n",
    "# Create a custom color map\n",
    "cmap = LinearSegmentedColormap.from_list(\n",
    "    \"custom_colormap\",\n",
    "    [(0, \"red\"), (1, \"green\")],\n",
    "    N=256,\n",
    ")\n",
    "cmap.set_under(\"grey\")\n",
    "\n",
    "# Calculate linkage matrices based on non-missing values\n",
    "row_linkage = linkage(cdr_array_with_placeholder, method='ward', metric='euclidean')\n",
    "col_linkage = linkage(cdr_array_with_placeholder.T, method='ward', metric='euclidean')\n",
    "\n",
    "# cancer names and drug names\n",
    "column_names = cdr.columns.tolist()\n",
    "row_names = cdr.index.tolist()\n",
    "\n",
    "# Create a custom color map\n",
    "cmap = LinearSegmentedColormap.from_list(\n",
    "    \"custom_colormap\",\n",
    "    [(0, \"red\"), (1, \"green\")],\n",
    "    N=256,\n",
    ")\n",
    "cmap.set_under(\"grey\")\n",
    "\n",
    "# Create the clustermap with the specified color map\n",
    "sns.clustermap(\n",
    "    data=cdr_array_with_placeholder,\n",
    "    row_cluster=True,\n",
    "    col_cluster=True,\n",
    "    mask = mask,\n",
    "    cmap=cmap,\n",
    "    center=0.5,  # Center the color map at 1 (midpoint)\n",
    "    vmin=0,  # Minimum value for the colormap (0)\n",
    "    vmax=1,  # Maximum value for the colormap (1)\n",
    "    dendrogram_ratio=(0.2, 0.2),\n",
    "    cbar_kws={\"label\": \"Sensitivity\"},\n",
    "    figsize=(30, 10),\n",
    "    xticklabels=column_names,  # Set column names as x-axis labels\n",
    "    yticklabels=row_names,    # Set row names as y-axis labels\n",
    ")\n",
    "\n",
    "# Optionally, set the colorbar labels\n",
    "cbar = plt.gcf().axes[-1]\n",
    "cbar.set_yticklabels(['0', '0.25', '0.5', '0.75', '1'])\n",
    "\n",
    "plt.show()"
   ]
  },
  {
   "cell_type": "code",
   "execution_count": null,
   "metadata": {},
   "outputs": [],
   "source": []
  },
  {
   "cell_type": "code",
   "execution_count": null,
   "metadata": {},
   "outputs": [],
   "source": [
    "cdr_array = np.array(cdr)\n",
    "cdr_array[np.isnan(cdr)] = 2  # Replace NaN with a value outside [0, 1]\n",
    "\n",
    "column_names = cdr.columns.tolist()\n",
    "row_names = cdr.index.tolist()\n",
    "\n",
    "# Create a custom color map\n",
    "cmap = sns.diverging_palette(220, 20, as_cmap=True)\n",
    "\n",
    "# Create the clustermap with the specified color map\n",
    "sns.clustermap(\n",
    "    data=cdr_array,\n",
    "    row_cluster=True,\n",
    "    col_cluster=True,\n",
    "    cmap=cmap,\n",
    "    center=0.5,  # Center the color map at 1 (midpoint)\n",
    "    vmin=0,  # Minimum value for the colormap (0)\n",
    "    vmax=1,  # Maximum value for the colormap (1)\n",
    "    dendrogram_ratio=(0.2, 0.2),\n",
    "    cbar_kws={\"label\": \"Sensitivity\"},\n",
    "    figsize=(30, 10),\n",
    "    xticklabels=column_names,  # Set column names as x-axis labels\n",
    "    yticklabels=row_names,    # Set row names as y-axis labels\n",
    ")\n",
    "\n",
    "# Optionally, set the colorbar labels\n",
    "cbar = plt.gcf().axes[-1]\n",
    "cbar.set_yticklabels(['Low', 'High', 'Missing'])\n",
    "\n",
    "plt.show()"
   ]
  },
  {
   "cell_type": "code",
   "execution_count": null,
   "metadata": {},
   "outputs": [],
   "source": [
    "cdr_array = np.array(cdr_hat_wide)\n",
    "cdr_array[np.isnan(cdr_hat_wide)] = 2  # Replace NaN with a value outside [0, 1]\n",
    "\n",
    "column_names = cdr_hat_wide.columns.tolist()\n",
    "row_names = cdr_hat_wide.index.tolist()\n",
    "\n",
    "# Create a custom color map\n",
    "cmap = sns.diverging_palette(220, 20, as_cmap=True)\n",
    "\n",
    "# Create the clustermap with the specified color map\n",
    "sns.clustermap(\n",
    "    data=cdr_array,\n",
    "    row_cluster=True,\n",
    "    col_cluster=True,\n",
    "    cmap=cmap,\n",
    "    center=1,  # Center the color map at 1 (midpoint)\n",
    "    dendrogram_ratio=(0.2, 0.2),\n",
    "    cbar_kws={\"label\": \"Sensitivity\"},\n",
    "    figsize=(30, 10),\n",
    "    xticklabels=column_names,  # Set column names as x-axis labels\n",
    "    yticklabels=row_names,    # Set row names as y-axis labels\n",
    ")\n",
    "\n",
    "# Optionally, set the colorbar labels\n",
    "cbar = plt.gcf().axes[-1]\n",
    "cbar.set_yticklabels(['Low', 'High', 'Missing'])\n",
    "\n",
    "plt.show()"
   ]
  },
  {
   "cell_type": "code",
   "execution_count": null,
   "metadata": {},
   "outputs": [],
   "source": [
    "import numpy as np\n",
    "import seaborn as sns\n",
    "import matplotlib.pyplot as plt\n",
    "\n",
    "# Replace NaN values in cdr_array with 2 (or any value outside the range [0, 1])\n",
    "cdr_array = np.array(cdr)\n",
    "cdr_array[np.isnan(cdr)] = 2  # Replace NaN with a value outside [0, 1]\n",
    "\n",
    "# Create a custom color map that transitions from red to green\n",
    "cmap = sns.color_palette(\"RdYlGn\", as_cmap=True)\n",
    "\n",
    "# Create the clustermap with the specified color map\n",
    "sns.clustermap(\n",
    "    data=cdr_array,\n",
    "    row_cluster=True,\n",
    "    col_cluster=True,\n",
    "    cmap=cmap,\n",
    "    center=1,  # Center the color map at 1 (midpoint)\n",
    "    dendrogram_ratio=(0.2, 0.2),\n",
    "    cbar_kws={\"label\": \"Sensitivity\"},\n",
    "    figsize=(10, 10),\n",
    ")\n",
    "\n",
    "# Optionally, set the colorbar labels\n",
    "cbar = plt.gcf().axes[-1]\n",
    "cbar.set_yticklabels(['0', 'Missing', '1'])\n",
    "\n",
    "plt.show()"
   ]
  },
  {
   "cell_type": "code",
   "execution_count": null,
   "metadata": {},
   "outputs": [],
   "source": [
    "cdr_array = np.array(cdr_hat_wide)\n",
    "cdr_array[np.isnan(cdr_hat_wide)] = 2  # Replace NaN with a value outside [0, 1]\n",
    "\n",
    "column_names = cdr_hat_wide.columns.tolist()\n",
    "row_names = cdr_hat_wide.index.tolist()\n",
    "\n",
    "# Create a custom color map\n",
    "cmap = sns.color_palette(\"RdYlGn\", as_cmap=True)\n",
    "\n",
    "# Create the clustermap with the specified color map\n",
    "sns.clustermap(\n",
    "    data=cdr_array,\n",
    "    row_cluster=True,\n",
    "    col_cluster=True,\n",
    "    cmap=cmap,\n",
    "    center=1,  # Center the color map at 1 (midpoint)\n",
    "    dendrogram_ratio=(0.2, 0.2),\n",
    "    cbar_kws={\"label\": \"Sensitivity\"},\n",
    "    figsize=(30, 10),\n",
    "    xticklabels=column_names,  # Set column names as x-axis labels\n",
    "    yticklabels=row_names,    # Set row names as y-axis labels\n",
    ")\n",
    "\n",
    "# Optionally, set the colorbar labels\n",
    "cbar = plt.gcf().axes[-1]\n",
    "cbar.set_yticklabels(['Low', 'High', 'Missing'])\n",
    "\n",
    "plt.show()"
   ]
  },
  {
   "cell_type": "code",
   "execution_count": null,
   "metadata": {},
   "outputs": [],
   "source": []
  },
  {
   "cell_type": "markdown",
   "metadata": {},
   "source": [
    "### "
   ]
  }
 ],
 "metadata": {
  "kernelspec": {
   "display_name": "Python 3",
   "language": "python",
   "name": "python3"
  },
  "language_info": {
   "codemirror_mode": {
    "name": "ipython",
    "version": 3
   },
   "file_extension": ".py",
   "mimetype": "text/x-python",
   "name": "python",
   "nbconvert_exporter": "python",
   "pygments_lexer": "ipython3",
   "version": "3.8.8"
  }
 },
 "nbformat": 4,
 "nbformat_minor": 4
}
