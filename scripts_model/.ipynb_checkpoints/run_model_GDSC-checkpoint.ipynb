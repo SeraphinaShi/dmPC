{
 "cells": [
  {
   "cell_type": "markdown",
   "metadata": {},
   "source": [
    "# 0. Setup"
   ]
  },
  {
   "cell_type": "code",
   "execution_count": 1,
   "metadata": {},
   "outputs": [
    {
     "data": {
      "text/plain": [
       "'/Users/seraphinashi/Desktop/DataFusion/DrugResponse_Omics_Molecules'"
      ]
     },
     "execution_count": 1,
     "metadata": {},
     "output_type": "execute_result"
    }
   ],
   "source": [
    "# Verify we're in the correct working directory\n",
    "import os\n",
    "import git \n",
    "from pathlib import Path\n",
    "\n",
    "def get_project_root():\n",
    "    return Path(git.Repo('.', search_parent_directories=True).working_tree_dir)\n",
    "\n",
    "root = get_project_root()\n",
    "\n",
    "os.chdir(root)\n",
    "os.getcwd()"
   ]
  },
  {
   "cell_type": "code",
   "execution_count": 2,
   "metadata": {},
   "outputs": [],
   "source": [
    "plot_folder = \"images/GDSC/\""
   ]
  },
  {
   "cell_type": "markdown",
   "metadata": {},
   "source": [
    "## import packages, models, trainers"
   ]
  },
  {
   "cell_type": "code",
   "execution_count": 3,
   "metadata": {},
   "outputs": [
    {
     "name": "stderr",
     "output_type": "stream",
     "text": [
      "/Users/seraphinashi/opt/anaconda3/lib/python3.8/site-packages/scipy/__init__.py:138: UserWarning: A NumPy version >=1.16.5 and <1.23.0 is required for this version of SciPy (detected version 1.24.3)\n",
      "  warnings.warn(f\"A NumPy version >={np_minversion} and <{np_maxversion} is required for this version of \"\n"
     ]
    },
    {
     "name": "stdout",
     "output_type": "stream",
     "text": [
      "pytorch version: 1.13.1\n",
      "orig num threads: 4\n"
     ]
    }
   ],
   "source": [
    "import argparse\n",
    "import logging\n",
    "import sys\n",
    "import time\n",
    "import warnings\n",
    "\n",
    "import numpy as np\n",
    "import pandas as pd\n",
    "import matplotlib.pyplot as plt; plt.rcParams['figure.dpi'] = 200\n",
    "\n",
    "import torch\n",
    "from torch import nn, optim, Tensor\n",
    "from torch.nn import functional as F\n",
    "from torch.optim import lr_scheduler\n",
    "from torch.utils.data import DataLoader, TensorDataset\n",
    "\n",
    "from sklearn.model_selection import train_test_split\n",
    "\n",
    "print('pytorch version:', torch.__version__)\n",
    "print('orig num threads:', torch.get_num_threads())"
   ]
  },
  {
   "cell_type": "code",
   "execution_count": 4,
   "metadata": {},
   "outputs": [
    {
     "name": "stderr",
     "output_type": "stream",
     "text": [
      "RDKit WARNING: [12:23:50] Enabling RDKit 2019.09.3 jupyter extensions\n"
     ]
    }
   ],
   "source": [
    "from models import *\n",
    "from trainers import *\n",
    "from losses import *\n",
    "from utils import *\n",
    "from cpd_smiles_embed import *"
   ]
  },
  {
   "cell_type": "code",
   "execution_count": 5,
   "metadata": {},
   "outputs": [],
   "source": [
    "import random\n",
    "seed=42\n",
    "\n",
    "torch.manual_seed(seed)\n",
    "torch.cuda.manual_seed(seed)\n",
    "torch.cuda.manual_seed_all(seed)\n",
    "\n",
    "random.seed(seed)\n",
    "np.random.seed(seed)\n",
    "os.environ['PYTHONHASHSEED'] = str(seed)\n",
    "\n",
    "torch.backends.cudnn.deterministic = True\n",
    "torch.backends.cudnn.benchmark = False"
   ]
  },
  {
   "cell_type": "markdown",
   "metadata": {},
   "source": [
    "# 1. Prepare dataset"
   ]
  },
  {
   "cell_type": "markdown",
   "metadata": {},
   "source": [
    "## Load "
   ]
  },
  {
   "cell_type": "code",
   "execution_count": null,
   "metadata": {},
   "outputs": [],
   "source": [
    "data_folder = \"data/GDSC\"\n",
    "RNAseq = pd.read_csv(os.path.join(data_folder, \"GDSC_RNAseq_rpkm_all_cl.csv\"), index_col = 0)\n",
    "RNAseq_meta = pd.read_csv(os.path.join(data_folder, \"GDSC_CellLine_annotation.csv\"), index_col = 0)\n",
    "RNAseq_meta = RNAseq_meta.dropna(subset=['COSMIC_ID'])\n",
    "RNAseq_meta['COSMIC_ID'] = RNAseq_meta['COSMIC_ID'].astype(int)\n",
    "\n",
    "cdr = pd.read_csv(os.path.join(data_folder, \"GDSC_DrugResponse_binarized_cleaned.csv\"), index_col = 0)\n",
    "\n",
    "cpd_smiles = pd.read_csv(os.path.join(data_folder, \"gdsc_cpd_metadata_w_smiles.csv\"))"
   ]
  },
  {
   "cell_type": "code",
   "execution_count": null,
   "metadata": {},
   "outputs": [],
   "source": [
    "cdr.shape"
   ]
  },
  {
   "cell_type": "markdown",
   "metadata": {},
   "source": [
    "## Prepare data"
   ]
  },
  {
   "cell_type": "code",
   "execution_count": null,
   "metadata": {},
   "outputs": [],
   "source": [
    "# 1. prepare c_data\n",
    "## make sure: \n",
    "##   1. the index (row names) is cancer cell line names\n",
    "c_data = RNAseq.T\n",
    "c_data.index = c_data.index.astype(str)\n",
    "c_data.shape"
   ]
  },
  {
   "cell_type": "code",
   "execution_count": null,
   "metadata": {},
   "outputs": [],
   "source": [
    "# 2. prepare c_meta\n",
    "c_meta_id_col_name = 'COSMIC_ID'\n",
    "c_meta_type_col_name = 'cancer_type'\n",
    "\n",
    "c_meta = RNAseq_meta[[c_meta_id_col_name, c_meta_type_col_name]]\n",
    "c_meta = c_meta.rename(columns = {c_meta_id_col_name:'C_ID', c_meta_type_col_name:'C_type'})\n",
    "c_meta = c_meta[~c_meta['C_ID'].isnull()]\n",
    "\n",
    "c_meta.loc[c_meta['C_type'] == 'MESO', 'C_type'] = None\n",
    "\n",
    "c_meta, meta_map = get_CCL_meta_codes(c_data.index.values, c_meta)\n",
    "c_meta.index = c_meta.index.astype(str)\n",
    "\n",
    "print(f\"Cancer type coding map: {meta_map}\")\n",
    "print(f\"Count of each coded cancer type:\")\n",
    "print(c_meta['code'].value_counts())"
   ]
  },
  {
   "cell_type": "code",
   "execution_count": null,
   "metadata": {},
   "outputs": [],
   "source": [
    "c_meta"
   ]
  },
  {
   "cell_type": "code",
   "execution_count": null,
   "metadata": {},
   "outputs": [],
   "source": [
    "# 3. prepare d_data\n",
    "## make sure: \n",
    "##   1. the index (row names) is drug names\n",
    "cpd_smiles = cpd_smiles[['drug_id', 'smiles']]\n",
    "cpd_smiles = cpd_smiles.set_index('drug_id')\n",
    "\n",
    "d_data = smiles_to_AtonBondDescriptor_PCAembedings(cpd_smiles)\n",
    "d_data.index = d_data.index.astype(str)\n",
    "\n",
    "d_data.shape"
   ]
  },
  {
   "cell_type": "code",
   "execution_count": null,
   "metadata": {},
   "outputs": [],
   "source": [
    "d_data.to_csv(os.path.join(data_folder, \"GDSC_cpd_pca_features.csv\"), index=True)"
   ]
  },
  {
   "cell_type": "code",
   "execution_count": null,
   "metadata": {},
   "outputs": [],
   "source": [
    "# 4. prepare cdr\n",
    "## make sure: \n",
    "##   1. the index (row names) is cancer cell line names\n",
    "##   2. the columns (column names) is drug names\n",
    "cdr.index = cdr.index.astype(\"str\")\n",
    "\n",
    "common_drugs = list(set(cdr.columns).intersection(set(d_data.index)))\n",
    "cdr = cdr[common_drugs]\n",
    "d_data = d_data.loc[common_drugs]\n",
    "\n",
    "common_cancers = list(set(cdr.index).intersection(set(c_data.index)))\n",
    "cdr = cdr.loc[common_cancers]\n",
    "c_data = c_data.loc[common_cancers]\n",
    "c_meta = c_meta.loc[common_cancers]\n",
    "\n",
    "print(f'cdr shape: {cdr.shape}')\n",
    "print(f'c_data shape: {c_data.shape}')\n",
    "print(f'c_meta shape: {c_meta.shape}')\n",
    "print(f'd_data shape: {d_data.shape}')"
   ]
  },
  {
   "cell_type": "code",
   "execution_count": null,
   "metadata": {},
   "outputs": [],
   "source": [
    "c_meta.head()"
   ]
  },
  {
   "cell_type": "code",
   "execution_count": null,
   "metadata": {},
   "outputs": [],
   "source": [
    "cdr_meso = cdr[cdr.index.isin(c_meta.index.values[c_meta['k1']==1])]\n",
    "column_means = cdr_meso.mean()\n",
    "\n",
    "# Print the mean values\n",
    "print(column_means)\n",
    "\n",
    "sum(column_means > 0.4)"
   ]
  },
  {
   "cell_type": "markdown",
   "metadata": {},
   "source": [
    "# 2. Hyperparameters"
   ]
  },
  {
   "cell_type": "code",
   "execution_count": null,
   "metadata": {},
   "outputs": [],
   "source": [
    "device = torch.device(\"cuda:0\" if torch.cuda.is_available() else \"cpu\")\n",
    "# torch.cuda.set_device(device)\n",
    "print(device)"
   ]
  },
  {
   "cell_type": "code",
   "execution_count": null,
   "metadata": {},
   "outputs": [],
   "source": [
    "class Train_Args:\n",
    "    def __getitem__(self, key):\n",
    "        return getattr(self, key)\n",
    "    def __setitem__(self, key, val):\n",
    "        setattr(self, key, val)\n",
    "    def __contains__(self, key):\n",
    "        return hasattr(self, key)\n",
    "\n",
    "    valid_size = 0.1 #@param {type: \"float\"}\n",
    "\n",
    "    n_epochs = 100 #@param {type: \"integer\"}\n",
    "    batch_size = 50 #@param {type: \"integer\"}\n",
    "    lr = 0.01 #@param {type: \"float\"}\n",
    "    \n",
    "    C_recon_loss_weight = 0.8 #@param {type: \"float\"}\n",
    "    C_kld_weight = 1 #@param {type: \"float\"}\n",
    "    C_cluster_distance_weight = 150 #@param {type: \"float\"}\n",
    "    D_recon_loss_weight = 1 #@param {type: \"float\"}\n",
    "    D_kld_weight = 1 #@param {type: \"float\"}\n",
    "    D_cluster_distance_weight = 100 #@param {type: \"float\"}\n",
    "    predict_loss_weight = 2000 #@param {type: \"float\"}\n",
    "    \n",
    "    cVAE_save_path = 'data/model_fits/c_vae.pkl' #@param\n",
    "    dVAE_save_path = 'data/model_fits/d_vae.pkl' #@param\n",
    "    \n",
    "    c_p_save_path = 'data/model_fits/c_vae_predictor.pkl' #@param\n",
    "    d_p_save_path = 'data/model_fits/d_vae_predictor.pkl' #@param\n",
    "\n",
    "    \n",
    "\n",
    "class CDPModel_sub_Args:\n",
    "    def __getitem__(self, key):\n",
    "        return getattr(self, key)\n",
    "    def __setitem__(self, key, val):\n",
    "        setattr(self, key, val)\n",
    "    def __contains__(self, key):\n",
    "        return hasattr(self, key)\n",
    "\n",
    "    # c_VAE\n",
    "    c_input_dim = 0 #@param {type: \"integer\"}\n",
    "    c_h_dims = [1024, 256] #@param {type: \"vactor\"}\n",
    "    c_latent_dim = 32 #@param {type: \"integer\"}\n",
    "\n",
    "    # d_VAE\n",
    "    d_input_dim = 0 #@param {type: \"integer\"}\n",
    "    d_h_dims = [64]  #@param {type: \"vactor\"}\n",
    "    d_latent_dim = 32 #@param {type: \"integer\"}\n",
    "\n",
    "    # predictor\n",
    "    p_sec_dim = 16 #@param {type: \"integer\"}\n",
    "    p_h_dims = [p_sec_dim*2, 16]  #@param {type: \"vactor\"}\n",
    "    \n",
    "    # all\n",
    "    drop_out = 0  #@param {type: \"float\"}\n",
    "    \n",
    "    # sensitive threshold\n",
    "    sens_cutoff = 0.3\n",
    "    \n",
    "\n"
   ]
  },
  {
   "cell_type": "code",
   "execution_count": null,
   "metadata": {},
   "outputs": [],
   "source": [
    "train_args = Train_Args()\n",
    "\n",
    "K = len(c_meta[c_meta['code'] != -1]['code'].unique())\n",
    "\n",
    "CDPmodel_args = CDPModel_sub_Args()\n",
    "CDPmodel_args['c_input_dim'] = c_data.shape[1] \n",
    "CDPmodel_args['d_input_dim'] = d_data.shape[1]\n",
    "\n",
    "if CDPmodel_args['c_input_dim'] <= 0:\n",
    "  warnings.warn(\n",
    "      '''\\nCancer Cell line feature number not specified''')\n",
    "if CDPmodel_args['d_input_dim'] <= 0:\n",
    "  warnings.warn(\n",
    "      '''\\nDrug feature number not specified''')"
   ]
  },
  {
   "cell_type": "markdown",
   "metadata": {},
   "source": [
    "# 3. Train Model"
   ]
  },
  {
   "cell_type": "code",
   "execution_count": null,
   "metadata": {},
   "outputs": [],
   "source": [
    "CDPmodel = CDPmodel(K, CDPmodel_args)"
   ]
  },
  {
   "cell_type": "code",
   "execution_count": null,
   "metadata": {},
   "outputs": [],
   "source": [
    "n_rounds = 3\n",
    "returns = CDPmodel.fit(c_data, c_meta, d_data, cdr, train_args, n_rounds=n_rounds, device = device)\n",
    "c_meta, c_meta_hist, d_sens_hist, losses_train_hist_list, best_epos_list, c_latent_list, d_latent_list = returns"
   ]
  },
  {
   "cell_type": "markdown",
   "metadata": {},
   "source": [
    "# 4. Results and visualizations"
   ]
  },
  {
   "cell_type": "code",
   "execution_count": null,
   "metadata": {},
   "outputs": [],
   "source": [
    "cdr_hat = CDPmodel.predict(c_data, d_data)\n",
    "pd.crosstab(cdr_hat.cluster, cdr_hat.cdr_hat, rownames = ['cluster'], colnames = ['cdr_hat'])"
   ]
  },
  {
   "cell_type": "code",
   "execution_count": null,
   "metadata": {},
   "outputs": [],
   "source": [
    "#cdr_hat_org = cdr_hat.copy()\n",
    "#cdr_hat_org.loc[cdr_hat_org.cluster == '0 & 1', 'cdr_hat'] = '0.5'\n",
    "#cdr_hat_org.loc[cdr_hat_org.cluster == '1 & 0', 'cdr_hat'] = '0.5'\n",
    "#cdr_hat_org.loc[cdr_hat_org.cluster == '0 & 0', 'cdr_hat'] = '0'\n",
    "#\n",
    "#cdr_hat_org[\"cdr_hat\"] = pd.to_numeric(cdr_hat_org[\"cdr_hat\"], errors='coerce')\n",
    "#cdr_hat_org = cdr_hat_org.pivot(index='c_name', columns='d_name')['cdr_hat']\n",
    "#\n",
    "#cdr_hat_org_0 = cdr_hat_org.loc[cdr_hat.c_name[cdr_hat.cluster == '0']]\n",
    "#cdr_hat_org_01 = cdr_hat_org.loc[cdr_hat.c_name[cdr_hat.cluster == '0 & 1']]\n",
    "#cdr_hat_org_1 = cdr_hat_org.loc[cdr_hat.c_name[cdr_hat.cluster == '1']]\n",
    "#cdr_hat_org_2 = cdr_hat_org.loc[cdr_hat.c_name[cdr_hat.cluster == '1']]\n",
    "#\n",
    "#cdr_hat_org = pd.concat([cdr_hat_org_0, cdr_hat_org_01, cdr_hat_org_1, cdr_hat_org_2], axis=0)\n",
    "#\n",
    "#sns.heatmap(cdr_hat_org, cmap='YlGnBu')\n",
    "#plt.show()"
   ]
  },
  {
   "cell_type": "markdown",
   "metadata": {},
   "source": [
    "## Clusters"
   ]
  },
  {
   "cell_type": "code",
   "execution_count": null,
   "metadata": {
    "scrolled": true
   },
   "outputs": [],
   "source": [
    "print('Cancer clustering before:')\n",
    "print(c_meta_hist.code.value_counts())\n",
    "print('Cancer clustering after:')\n",
    "print(c_meta_hist.code_latest.value_counts())"
   ]
  },
  {
   "cell_type": "code",
   "execution_count": null,
   "metadata": {},
   "outputs": [],
   "source": [
    "print('Sensitive to clusters before:')\n",
    "print(d_sens_hist.sensitive_k.value_counts())\n",
    "print('Sensitive to clusters after:')\n",
    "print(d_sens_hist.sensitive_k_latest.value_counts())"
   ]
  },
  {
   "cell_type": "markdown",
   "metadata": {},
   "source": [
    "## Visualizations"
   ]
  },
  {
   "cell_type": "code",
   "execution_count": null,
   "metadata": {},
   "outputs": [],
   "source": [
    "import matplotlib.pyplot as plt\n",
    "import numpy as np\n",
    "from sklearn.decomposition import PCA\n",
    "import seaborn as sns"
   ]
  },
  {
   "cell_type": "code",
   "execution_count": null,
   "metadata": {},
   "outputs": [],
   "source": [
    "for k in range(K):\n",
    "    plot_c_PCA_latent(c_data, c_latent_list, c_meta_hist, n_rounds, legend_title='cluster', k=k, \n",
    "                      plot_save_path=f'scripts_model/plots/simu2_{num_cluster}clusters_c_latent_k{k}.png')"
   ]
  },
  {
   "cell_type": "code",
   "execution_count": null,
   "metadata": {},
   "outputs": [],
   "source": [
    "for k in range(K):\n",
    "    plot_d_PCA_latent(d_data, d_latent_list, d_sens_hist, n_rounds, legend_title='cluster', k=k, \n",
    "                      plot_save_path=f'scripts_model/plots/simu2_{num_cluster}clusters_d_latent_k{k}.png')"
   ]
  },
  {
   "cell_type": "code",
   "execution_count": null,
   "metadata": {},
   "outputs": [],
   "source": [
    "#print('round 1:')\n",
    "#print('k = 0:')\n",
    "#plot_training_losses(losses_train_hist_list[0][0], best_epoch_1round = best_epos_list[0][0])\n",
    "#print('k = 1:')\n",
    "#plot_training_losses(losses_train_hist_list[0][1], best_epoch_1round = best_epos_list[0][1])\n",
    "\n",
    "# print('round 1:')\n",
    "# print('k = 0:')\n",
    "# print('trainning set:')\n",
    "# plot_training_losses(losses_train_hist_list[0][0], best_epoch_1round = best_epos_list[0][0], train_hist = True, test_hist = False)\n",
    "# print('testing set:')\n",
    "# plot_training_losses(losses_train_hist_list[0][0], best_epoch_1round = best_epos_list[0][0], train_hist = False, test_hist = True)"
   ]
  },
  {
   "cell_type": "code",
   "execution_count": null,
   "metadata": {
    "scrolled": false
   },
   "outputs": [],
   "source": [
    "for k in range(K):\n",
    "    print(f'k = {k}:')\n",
    "    for b in range(n_rounds):\n",
    "        print(f'round {b}:')\n",
    "        plot_training_losses_train_test_2cols(losses_train_hist_list[b][k], best_epoch_1round = best_epos_list[b][k],\n",
    "                                              plot_save_path=f'scripts_model/plots/simu2_{num_cluster}clusters_losses_b{b}_k{k}.png')\n",
    "        "
   ]
  },
  {
   "cell_type": "code",
   "execution_count": null,
   "metadata": {},
   "outputs": [],
   "source": [
    "def plot_pre_training_losses_train_test_2cols(losses_train_hist_list_1round, best_epoch_1round = [], plot_save_path=''):\n",
    "    a_losses = losses_train_hist_list_1round[0]\n",
    "    c_losses = losses_train_hist_list_1round[1]\n",
    "    e_losses = losses_train_hist_list_1round[2]\n",
    "    g_losses = losses_train_hist_list_1round[3]\n",
    "    \n",
    "    fig, axs = plt.subplots(nrows=2, ncols=2, figsize=(10, 8))\n",
    "    fig.suptitle('')\n",
    "    \n",
    "    losses = losses_train_hist_list_1round[1]\n",
    "    axs[0,0].plot(losses[\"epoch\"], losses[\"prediction_loss_train_vector\"], label = \"prediction loss (train)\");\n",
    "    if best_epoch_1round != []:\n",
    "            axs[1,0].axvline(x=best_epoch_1round[1], color='r', linestyle='--')\n",
    "    axs[0,0].set_title('(c) D-VAE & Predictor losses [train]')\n",
    "\n",
    "    \n",
    "    axs[0,1].plot(losses[\"epoch\"], losses[\"prediction_loss_val_vector\"], label = \"prediction loss (test)\");\n",
    "    if best_epoch_1round != []:\n",
    "        axs[0,1].axvline(x=best_epoch_1round[1], color='r', linestyle='--')\n",
    "    axs[0,1].set_title('(c) D-VAE & Predictor losses [test]')\n",
    "    axs[0,1].legend(loc='center left', bbox_to_anchor=(1, 0.5))\n",
    "    \n",
    "\n",
    "    losses = losses_train_hist_list_1round[3]\n",
    "    axs[1,0].plot(losses[\"epoch\"], losses[\"prediction_loss_train_vector\"], label = \"prediction loss (train)\");\n",
    "    if best_epoch_1round != []:\n",
    "            axs[1,0].axvline(x=best_epoch_1round[3], color='r', linestyle='--')\n",
    "    axs[1,0].set_title('(g) C-VAE & Predictor losses [train]')\n",
    "    \n",
    "    axs[1,1].plot(losses[\"epoch\"], losses[\"prediction_loss_val_vector\"], label = \"prediction loss (test)\");\n",
    "    if best_epoch_1round != []:\n",
    "        axs[1,1].axvline(x=best_epoch_1round[3], color='r', linestyle='--')\n",
    "    axs[1,1].set_title('(g) C-VAE & Predictor losses [test]')\n",
    "    axs[1,1].legend(loc='center left', bbox_to_anchor=(1, 0.5))\n",
    "\n",
    "    plt.tight_layout()\n",
    "\n",
    "    if plot_save_path != '':\n",
    "        plt.savefig(plot_save_path, dpi=1200)\n",
    "\n",
    "    plt.show()\n",
    "\n",
    "\n",
    "\n",
    "\n",
    "\n",
    "\n"
   ]
  },
  {
   "cell_type": "code",
   "execution_count": null,
   "metadata": {
    "scrolled": false
   },
   "outputs": [],
   "source": [
    "for k in range(K):\n",
    "    print(f'k = {k}:')\n",
    "    for b in range(n_rounds):\n",
    "        print(f'round {b}:')\n",
    "        plot_pre_training_losses_train_test_2cols(losses_train_hist_list[b][k], best_epoch_1round = best_epos_list[b][k])\n",
    "        "
   ]
  }
 ],
 "metadata": {
  "kernelspec": {
   "display_name": "Python 3",
   "language": "python",
   "name": "python3"
  },
  "language_info": {
   "codemirror_mode": {
    "name": "ipython",
    "version": 3
   },
   "file_extension": ".py",
   "mimetype": "text/x-python",
   "name": "python",
   "nbconvert_exporter": "python",
   "pygments_lexer": "ipython3",
   "version": "3.8.8"
  }
 },
 "nbformat": 4,
 "nbformat_minor": 4
}
