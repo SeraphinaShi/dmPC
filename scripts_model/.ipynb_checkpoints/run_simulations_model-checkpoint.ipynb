{
 "cells": [
  {
   "cell_type": "markdown",
   "metadata": {},
   "source": [
    "# 0. Setup"
   ]
  },
  {
   "cell_type": "code",
   "execution_count": 1,
   "metadata": {
    "scrolled": true
   },
   "outputs": [
    {
     "data": {
      "text/plain": [
       "'/Users/seraphinashi/Desktop/DataFusion/DrugResponse_Omics_Molecules/scripts_model'"
      ]
     },
     "execution_count": 1,
     "metadata": {},
     "output_type": "execute_result"
    }
   ],
   "source": [
    "# Verify we're in the correct working directory\n",
    "import os\n",
    "os.getcwd()   "
   ]
  },
  {
   "cell_type": "code",
   "execution_count": 2,
   "metadata": {},
   "outputs": [
    {
     "data": {
      "text/plain": [
       "'/Users/seraphinashi/Desktop/DataFusion/DrugResponse_Omics_Molecules'"
      ]
     },
     "execution_count": 2,
     "metadata": {},
     "output_type": "execute_result"
    }
   ],
   "source": [
    "os.chdir('/Users/seraphinashi/Desktop/DataFusion/DrugResponse_Omics_Molecules')\n",
    "os.getcwd()"
   ]
  },
  {
   "cell_type": "code",
   "execution_count": 3,
   "metadata": {},
   "outputs": [],
   "source": [
    "plot_folder = \"images/simulation/\""
   ]
  },
  {
   "cell_type": "markdown",
   "metadata": {},
   "source": [
    "## import packages, models, trainers"
   ]
  },
  {
   "cell_type": "code",
   "execution_count": 4,
   "metadata": {},
   "outputs": [],
   "source": [
    "# pip install torchvision"
   ]
  },
  {
   "cell_type": "code",
   "execution_count": 5,
   "metadata": {},
   "outputs": [],
   "source": [
    "import argparse\n",
    "import logging\n",
    "import sys\n",
    "import time\n",
    "import warnings\n",
    "\n",
    "import numpy as np\n",
    "import pandas as pd\n",
    "import matplotlib.pyplot as plt; plt.rcParams['figure.dpi'] = 200\n",
    "\n",
    "import torch\n",
    "from torch import nn, optim, Tensor\n",
    "from torch.nn import functional as F\n",
    "from torch.optim import lr_scheduler\n",
    "from torch.utils.data import DataLoader, TensorDataset"
   ]
  },
  {
   "cell_type": "code",
   "execution_count": 6,
   "metadata": {},
   "outputs": [
    {
     "name": "stdout",
     "output_type": "stream",
     "text": [
      "pytorch version: 1.13.1\n"
     ]
    }
   ],
   "source": [
    "print('pytorch version:', torch.__version__)"
   ]
  },
  {
   "cell_type": "code",
   "execution_count": 7,
   "metadata": {},
   "outputs": [
    {
     "name": "stdout",
     "output_type": "stream",
     "text": [
      "orig num threads: 4\n"
     ]
    }
   ],
   "source": [
    "print('orig num threads:', torch.get_num_threads())"
   ]
  },
  {
   "cell_type": "code",
   "execution_count": 8,
   "metadata": {},
   "outputs": [],
   "source": [
    "from ccl_VAE import *\n",
    "from d_VAE import *\n",
    "from predictor import *\n",
    "from utils import *"
   ]
  },
  {
   "cell_type": "code",
   "execution_count": 9,
   "metadata": {},
   "outputs": [],
   "source": [
    "import random\n",
    "seed=42\n",
    "\n",
    "torch.manual_seed(seed)\n",
    "torch.cuda.manual_seed(seed)\n",
    "torch.cuda.manual_seed_all(seed)\n",
    "\n",
    "random.seed(seed)\n",
    "np.random.seed(seed)\n",
    "os.environ['PYTHONHASHSEED'] = str(seed)\n",
    "\n",
    "torch.backends.cudnn.deterministic = True\n",
    "torch.backends.cudnn.benchmark = False"
   ]
  },
  {
   "cell_type": "markdown",
   "metadata": {},
   "source": [
    "# 1. Prepare dataset"
   ]
  },
  {
   "cell_type": "markdown",
   "metadata": {},
   "source": [
    "## Load "
   ]
  },
  {
   "cell_type": "code",
   "execution_count": 10,
   "metadata": {},
   "outputs": [],
   "source": [
    "from sklearn.model_selection import train_test_split\n",
    "from torch.utils.data import DataLoader, TensorDataset"
   ]
  },
  {
   "cell_type": "code",
   "execution_count": 11,
   "metadata": {},
   "outputs": [],
   "source": [
    "simu_folder = \"data/simulations\"\n",
    "RNAseq = pd.read_csv(os.path.join(simu_folder, \"simu1_RNAseq.csv\"), index_col = 0)\n",
    "RNAseq_meta = pd.read_csv(os.path.join(simu_folder, \"simu1_RNAseq_meta.csv\"), index_col = 0)\n",
    "d_fp = pd.read_csv(os.path.join(simu_folder, \"simu1_d_fp.csv\"), index_col = 0)\n",
    "cdr = pd.read_csv(os.path.join(simu_folder, \"simu1_cdr.csv\"), index_col = 0)"
   ]
  },
  {
   "cell_type": "markdown",
   "metadata": {},
   "source": [
    "## Convert to tensor"
   ]
  },
  {
   "cell_type": "code",
   "execution_count": 12,
   "metadata": {},
   "outputs": [
    {
     "name": "stdout",
     "output_type": "stream",
     "text": [
      "Cancer type coding map: [('grp2', 1) ('grp1', 0)]\n",
      "Count of each coded cancer type:\n",
      "1    41\n",
      "0    35\n",
      "Name: code, dtype: int64\n"
     ]
    }
   ],
   "source": [
    "RNAseq_meta, meta_map= get_CCL_meta_codes(RNAseq.columns.values, RNAseq_meta)\n",
    "print(f\"Cancer type coding map: {meta_map}\")\n",
    "print(f\"Count of each coded cancer type:\")\n",
    "print(RNAseq_meta['code'].value_counts())"
   ]
  },
  {
   "cell_type": "markdown",
   "metadata": {},
   "source": [
    "# 2. Define Model"
   ]
  },
  {
   "cell_type": "code",
   "execution_count": 13,
   "metadata": {},
   "outputs": [],
   "source": [
    "c_data = RNAseq.T\n",
    "c_meta = RNAseq_meta\n",
    "\n",
    "c_meta_org = c_meta.copy()\n",
    "\n",
    "d_data = d_fp.T\n",
    "\n",
    "cdr = cdr"
   ]
  },
  {
   "cell_type": "markdown",
   "metadata": {},
   "source": [
    "## Hyperparameters"
   ]
  },
  {
   "cell_type": "code",
   "execution_count": 14,
   "metadata": {},
   "outputs": [
    {
     "name": "stdout",
     "output_type": "stream",
     "text": [
      "cpu\n"
     ]
    }
   ],
   "source": [
    "device = torch.device(\"cuda:0\" if torch.cuda.is_available() else \"cpu\")\n",
    "# torch.cuda.set_device(device)\n",
    "print(device)"
   ]
  },
  {
   "cell_type": "code",
   "execution_count": 15,
   "metadata": {},
   "outputs": [],
   "source": [
    "# for all\n",
    "K = len(c_meta['code'].unique())\n",
    "\n",
    "valid_size = 0.1\n",
    "l_r = 0.05\n",
    "\n",
    "n_epochs = 100\n",
    "batch_size = 50\n",
    "\n",
    "drop_out = 0\n",
    "\n",
    "# c_VAE\n",
    "c_input_dim = c_data.shape[1]\n",
    "c_h_dims = [128, 64]\n",
    "c_latent_dim = 32\n",
    "\n",
    "c_cluster_distance_weight = 2\n",
    "\n",
    "# d_VAE\n",
    "d_input_dim = d_data.shape[1]\n",
    "d_h_dims = [128, 64]\n",
    "d_latent_dim = 32\n",
    "\n",
    "d_cluster_distance_weight = 2\n",
    "\n",
    "# predictor\n",
    "p_sec_dim = 16\n",
    "p_h_dims = [p_sec_dim*2, 16]"
   ]
  },
  {
   "cell_type": "code",
   "execution_count": 16,
   "metadata": {},
   "outputs": [
    {
     "data": {
      "text/plain": [
       "2"
      ]
     },
     "execution_count": 16,
     "metadata": {},
     "output_type": "execute_result"
    }
   ],
   "source": [
    "len(c_meta['code'].unique())"
   ]
  },
  {
   "cell_type": "markdown",
   "metadata": {},
   "source": [
    "## Define C-VAE, D-VAE, and Predictor"
   ]
  },
  {
   "cell_type": "code",
   "execution_count": 17,
   "metadata": {},
   "outputs": [],
   "source": [
    "c_vae_list = []\n",
    "d_vae_list = []\n",
    "predictor_list = []\n",
    "\n",
    "for k in range(0,K):\n",
    "    c_vae_list.append(c_VAE(input_dim=c_input_dim, h_dims=c_h_dims, latent_dim=c_latent_dim).to(device)) \n",
    "    d_vae_list.append(d_VAE(input_dim=d_input_dim, h_dims=d_h_dims, latent_dim=d_latent_dim).to(device))\n",
    "    predictor_list.append(Predictor(c_input_dim=c_latent_dim, d_input_dim=d_latent_dim, sec_dim = p_sec_dim, h_dims=p_h_dims).to(device))\n",
    "    "
   ]
  },
  {
   "cell_type": "markdown",
   "metadata": {},
   "source": [
    "## Train c_vae"
   ]
  },
  {
   "cell_type": "code",
   "execution_count": 18,
   "metadata": {},
   "outputs": [],
   "source": [
    "import time"
   ]
  },
  {
   "cell_type": "code",
   "execution_count": 19,
   "metadata": {},
   "outputs": [],
   "source": [
    "# for k in range(0,K):\n",
    "    "
   ]
  },
  {
   "cell_type": "code",
   "execution_count": 20,
   "metadata": {},
   "outputs": [],
   "source": [
    "k = 0"
   ]
  },
  {
   "cell_type": "code",
   "execution_count": 21,
   "metadata": {},
   "outputs": [
    {
     "name": "stdout",
     "output_type": "stream",
     "text": [
      "Training C_VAE 0\n",
      "   Running time: 0.7658121585845947\n"
     ]
    }
   ],
   "source": [
    "#=================================================================================\n",
    "# Train C_VAE\n",
    "##---------------------\n",
    "## prepare data \n",
    "X_train, X_valid = train_test_split(c_data, test_size=valid_size, random_state=42)\n",
    "X_meta_train = get_CCL_meta(X_train.index.values, c_meta)\n",
    "X_meta_valid = get_CCL_meta(X_valid.index.values, c_meta)\n",
    "\n",
    "X_trainTensor = torch.FloatTensor(X_train.values).to(device)\n",
    "X_meta_trainTensor = torch.FloatTensor(X_meta_train.values).to(device)\n",
    "X_validTensor = torch.FloatTensor(X_valid.values).to(device)\n",
    "X_meta_validTensor = torch.FloatTensor(X_meta_valid.values).to(device)\n",
    "\n",
    "train_dataset = TensorDataset(X_trainTensor, X_meta_trainTensor)\n",
    "valid_dataset = TensorDataset(X_validTensor, X_meta_validTensor)\n",
    "\n",
    "X_trainDataLoader = DataLoader(dataset=train_dataset, batch_size=batch_size, shuffle=True)\n",
    "X_validDataLoader = DataLoader(dataset=valid_dataset, batch_size=batch_size, shuffle=True)\n",
    "\n",
    "dataloaders_C = {'train':X_trainDataLoader,'val':X_validDataLoader}\n",
    "##---------------------\n",
    "## define optimizer\n",
    "optimizer_e = optim.Adam(c_vae_list[k].parameters(), lr=1e-2)\n",
    "exp_lr_scheduler_e = lr_scheduler.ReduceLROnPlateau(optimizer_e)\n",
    "\n",
    "##---------------------\n",
    "## update C_VAE\n",
    "print(f\"Training C_VAE {k}\")\n",
    "start = time.time()\n",
    "c_vae_list[k],loss_train = train_c_VAE(\n",
    "    vae=c_vae_list[k],\n",
    "    data_loaders=dataloaders_C,\n",
    "    cluster_label=k,\n",
    "    cluster_distance_weight = c_cluster_distance_weight,\n",
    "    optimizer=optimizer_e,\n",
    "    n_epochs=n_epochs,\n",
    "    scheduler=exp_lr_scheduler_e)\n",
    "end = time.time()\n",
    "print(f\"   Running time: {end - start}\")\n"
   ]
  },
  {
   "cell_type": "code",
   "execution_count": 22,
   "metadata": {},
   "outputs": [
    {
     "data": {
      "text/plain": [
       "<generator object Module.parameters at 0x7fa048551890>"
      ]
     },
     "execution_count": 22,
     "metadata": {},
     "output_type": "execute_result"
    }
   ],
   "source": [
    "c_vae_list[k].parameters()"
   ]
  },
  {
   "cell_type": "code",
   "execution_count": 23,
   "metadata": {},
   "outputs": [],
   "source": [
    "#=================================================================================\n",
    "# Cell lines in cluster k with latent space that is not close to the centroid will be dropped from the cluster\n",
    "c_latent = c_vae_list[k].encode(torch.from_numpy(c_data.values).float().to(device), repram=False)\n",
    "\n",
    "if any(c_data.index.values == c_meta.index.values):\n",
    "    c_meta = get_CCL_meta(c_data.index.values, c_meta)\n",
    "    \n",
    "idx_cluster = c_meta.code == k\n",
    "\n",
    "c_cluster_latent = c_latent[idx_cluster]\n",
    "c_centroid = c_cluster_latent.mean(dim=0)\n",
    "\n",
    "c_cluster_distances = torch.cdist(c_cluster_latent, c_centroid.view(1, -1))\n",
    "c_outlier_idx = find_outliers_IQR(c_cluster_distances)[0]\n",
    "\n",
    "idx_cluster_updated = idx_cluster.copy()\n",
    "idx_cluster_updated[c_outlier_idx] = False\n",
    "\n",
    "c_meta.code[idx_cluster] = -1\n",
    "c_meta.code[idx_cluster_updated] = k"
   ]
  },
  {
   "cell_type": "code",
   "execution_count": 24,
   "metadata": {},
   "outputs": [],
   "source": [
    "#=================================================================================\n",
    "# Train D_VAE and predictor\n",
    "##---------------------\n",
    "## prepare data\n",
    "### cluster K cell line latent space \n",
    "c_latent = pd.DataFrame(c_latent[idx_cluster_updated].detach().numpy(), index=c_data.index[idx_cluster_updated])\n",
    "c_meta = get_CCL_meta(c_latent.index.values, c_meta)\n",
    "\n",
    "### all drugs \n",
    "d_data = d_data\n",
    "\n",
    "### corresponding cdr\n",
    "cdr['c_name'] = cdr.index.values\n",
    "cdr = pd.melt(cdr, id_vars='c_name', value_vars=None,\n",
    "              var_name=None, value_name='value', col_level=None)\n",
    "cdr = cdr.rename(columns={'variable':'d_name', 'value':'cdr'})\n",
    "cdr = cdr.loc[cdr.c_name.isin(c_latent.index.values)]"
   ]
  }
 ],
 "metadata": {
  "kernelspec": {
   "display_name": "Python 3",
   "language": "python",
   "name": "python3"
  },
  "language_info": {
   "codemirror_mode": {
    "name": "ipython",
    "version": 3
   },
   "file_extension": ".py",
   "mimetype": "text/x-python",
   "name": "python",
   "nbconvert_exporter": "python",
   "pygments_lexer": "ipython3",
   "version": "3.8.8"
  }
 },
 "nbformat": 4,
 "nbformat_minor": 4
}
