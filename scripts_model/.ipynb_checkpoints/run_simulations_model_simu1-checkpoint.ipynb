{
 "cells": [
  {
   "cell_type": "markdown",
   "metadata": {},
   "source": [
    "# 0. Setup"
   ]
  },
  {
   "cell_type": "code",
   "execution_count": 1,
   "metadata": {},
   "outputs": [
    {
     "data": {
      "text/plain": [
       "'/Users/seraphinashi/Desktop/DataFusion/DrugResponse_Omics_Molecules'"
      ]
     },
     "execution_count": 1,
     "metadata": {},
     "output_type": "execute_result"
    }
   ],
   "source": [
    "# Verify we're in the correct working directory\n",
    "import os\n",
    "import git \n",
    "from pathlib import Path\n",
    "\n",
    "def get_project_root():\n",
    "    return Path(git.Repo('.', search_parent_directories=True).working_tree_dir)\n",
    "\n",
    "root = get_project_root()\n",
    "\n",
    "os.chdir(root)\n",
    "os.getcwd()"
   ]
  },
  {
   "cell_type": "code",
   "execution_count": 2,
   "metadata": {},
   "outputs": [],
   "source": [
    "plot_folder = \"images/simulation/\""
   ]
  },
  {
   "cell_type": "markdown",
   "metadata": {},
   "source": [
    "## import packages, models, trainers"
   ]
  },
  {
   "cell_type": "code",
   "execution_count": 3,
   "metadata": {},
   "outputs": [
    {
     "name": "stdout",
     "output_type": "stream",
     "text": [
      "pytorch version: 1.13.1\n",
      "orig num threads: 4\n"
     ]
    }
   ],
   "source": [
    "import argparse\n",
    "import logging\n",
    "import sys\n",
    "import time\n",
    "import warnings\n",
    "\n",
    "import numpy as np\n",
    "import pandas as pd\n",
    "import matplotlib.pyplot as plt; plt.rcParams['figure.dpi'] = 200\n",
    "\n",
    "import torch\n",
    "from torch import nn, optim, Tensor\n",
    "from torch.nn import functional as F\n",
    "from torch.optim import lr_scheduler\n",
    "from torch.utils.data import DataLoader, TensorDataset\n",
    "\n",
    "from sklearn.model_selection import train_test_split\n",
    "\n",
    "print('pytorch version:', torch.__version__)\n",
    "print('orig num threads:', torch.get_num_threads())"
   ]
  },
  {
   "cell_type": "code",
   "execution_count": 4,
   "metadata": {},
   "outputs": [],
   "source": [
    "from models import *\n",
    "from trainers import *\n",
    "from losses import *\n",
    "from utils import *"
   ]
  },
  {
   "cell_type": "code",
   "execution_count": 5,
   "metadata": {},
   "outputs": [],
   "source": [
    "import random\n",
    "seed=42\n",
    "\n",
    "torch.manual_seed(seed)\n",
    "torch.cuda.manual_seed(seed)\n",
    "torch.cuda.manual_seed_all(seed)\n",
    "\n",
    "random.seed(seed)\n",
    "np.random.seed(seed)\n",
    "os.environ['PYTHONHASHSEED'] = str(seed)\n",
    "\n",
    "torch.backends.cudnn.deterministic = True\n",
    "torch.backends.cudnn.benchmark = False"
   ]
  },
  {
   "cell_type": "markdown",
   "metadata": {},
   "source": [
    "# 1. Prepare dataset"
   ]
  },
  {
   "cell_type": "markdown",
   "metadata": {},
   "source": [
    "## Load "
   ]
  },
  {
   "cell_type": "code",
   "execution_count": 6,
   "metadata": {},
   "outputs": [
    {
     "name": "stdout",
     "output_type": "stream",
     "text": [
      "Cancer type coding map: [('grp2', 1) ('grp1', 0)]\n",
      "Count of each coded cancer type:\n",
      "1    41\n",
      "0    35\n",
      "Name: code, dtype: int64\n"
     ]
    }
   ],
   "source": [
    "simu_folder = \"data/simulations\"\n",
    "RNAseq = pd.read_csv(os.path.join(simu_folder, \"simu1_RNAseq.csv\"), index_col = 0)\n",
    "RNAseq_meta = pd.read_csv(os.path.join(simu_folder, \"simu1_RNAseq_meta.csv\"), index_col = 0)\n",
    "d_fp = pd.read_csv(os.path.join(simu_folder, \"simu1_d_fp.csv\"), index_col = 0)\n",
    "cdr = pd.read_csv(os.path.join(simu_folder, \"simu1_cdr.csv\"), index_col = 0)\n",
    "\n",
    "\n",
    "# originally\n",
    "c_meta, meta_map = get_CCL_meta_codes(RNAseq.columns.values, RNAseq_meta)\n",
    "print(f\"Cancer type coding map: {meta_map}\")\n",
    "print(f\"Count of each coded cancer type:\")\n",
    "print(c_meta['code'].value_counts())"
   ]
  },
  {
   "cell_type": "code",
   "execution_count": 7,
   "metadata": {},
   "outputs": [],
   "source": [
    "# only two groups\n",
    "two_grp = False\n",
    "if two_grp:\n",
    "    RNAseq_meta.loc[RNAseq_meta.C_type=='grp2', 'C_type'] = 'grp1'\n",
    "\n",
    "    c_meta, meta_map = get_CCL_meta_codes(RNAseq.columns.values, RNAseq_meta)\n",
    "    print(f\"Cancer type coding map: {meta_map}\")\n",
    "    print(f\"Count of each coded cancer type:\")\n",
    "    print(c_meta['code'].value_counts())"
   ]
  },
  {
   "cell_type": "code",
   "execution_count": 8,
   "metadata": {},
   "outputs": [],
   "source": [
    "c_data = RNAseq.T\n",
    "c_meta = c_meta\n",
    "\n",
    "d_data = d_fp.T\n",
    "\n",
    "cdr = cdr\n",
    "cdr.index = cdr.index.astype(\"str\")\n",
    "cdr_org = cdr.copy()"
   ]
  },
  {
   "cell_type": "code",
   "execution_count": 9,
   "metadata": {},
   "outputs": [
    {
     "data": {
      "text/html": [
       "<div>\n",
       "<style scoped>\n",
       "    .dataframe tbody tr th:only-of-type {\n",
       "        vertical-align: middle;\n",
       "    }\n",
       "\n",
       "    .dataframe tbody tr th {\n",
       "        vertical-align: top;\n",
       "    }\n",
       "\n",
       "    .dataframe thead th {\n",
       "        text-align: right;\n",
       "    }\n",
       "</style>\n",
       "<table border=\"1\" class=\"dataframe\">\n",
       "  <thead>\n",
       "    <tr style=\"text-align: right;\">\n",
       "      <th></th>\n",
       "      <th>code</th>\n",
       "      <th>k0</th>\n",
       "      <th>k1</th>\n",
       "    </tr>\n",
       "  </thead>\n",
       "  <tbody>\n",
       "    <tr>\n",
       "      <th>1240142</th>\n",
       "      <td>0</td>\n",
       "      <td>1</td>\n",
       "      <td>0</td>\n",
       "    </tr>\n",
       "    <tr>\n",
       "      <th>1240183</th>\n",
       "      <td>0</td>\n",
       "      <td>1</td>\n",
       "      <td>0</td>\n",
       "    </tr>\n",
       "    <tr>\n",
       "      <th>1240190</th>\n",
       "      <td>0</td>\n",
       "      <td>1</td>\n",
       "      <td>0</td>\n",
       "    </tr>\n",
       "    <tr>\n",
       "      <th>1247873</th>\n",
       "      <td>0</td>\n",
       "      <td>1</td>\n",
       "      <td>0</td>\n",
       "    </tr>\n",
       "    <tr>\n",
       "      <th>1290908</th>\n",
       "      <td>0</td>\n",
       "      <td>1</td>\n",
       "      <td>0</td>\n",
       "    </tr>\n",
       "    <tr>\n",
       "      <th>...</th>\n",
       "      <td>...</td>\n",
       "      <td>...</td>\n",
       "      <td>...</td>\n",
       "    </tr>\n",
       "    <tr>\n",
       "      <th>909728</th>\n",
       "      <td>1</td>\n",
       "      <td>0</td>\n",
       "      <td>1</td>\n",
       "    </tr>\n",
       "    <tr>\n",
       "      <th>910399</th>\n",
       "      <td>1</td>\n",
       "      <td>0</td>\n",
       "      <td>1</td>\n",
       "    </tr>\n",
       "    <tr>\n",
       "      <th>910900</th>\n",
       "      <td>1</td>\n",
       "      <td>0</td>\n",
       "      <td>1</td>\n",
       "    </tr>\n",
       "    <tr>\n",
       "      <th>910931</th>\n",
       "      <td>1</td>\n",
       "      <td>0</td>\n",
       "      <td>1</td>\n",
       "    </tr>\n",
       "    <tr>\n",
       "      <th>924244</th>\n",
       "      <td>1</td>\n",
       "      <td>0</td>\n",
       "      <td>1</td>\n",
       "    </tr>\n",
       "  </tbody>\n",
       "</table>\n",
       "<p>76 rows × 3 columns</p>\n",
       "</div>"
      ],
      "text/plain": [
       "         code  k0  k1\n",
       "1240142     0   1   0\n",
       "1240183     0   1   0\n",
       "1240190     0   1   0\n",
       "1247873     0   1   0\n",
       "1290908     0   1   0\n",
       "...       ...  ..  ..\n",
       "909728      1   0   1\n",
       "910399      1   0   1\n",
       "910900      1   0   1\n",
       "910931      1   0   1\n",
       "924244      1   0   1\n",
       "\n",
       "[76 rows x 3 columns]"
      ]
     },
     "execution_count": 9,
     "metadata": {},
     "output_type": "execute_result"
    }
   ],
   "source": [
    "c_meta"
   ]
  },
  {
   "cell_type": "markdown",
   "metadata": {},
   "source": [
    "# 2. Hyperparameters"
   ]
  },
  {
   "cell_type": "code",
   "execution_count": 10,
   "metadata": {},
   "outputs": [
    {
     "name": "stdout",
     "output_type": "stream",
     "text": [
      "cpu\n"
     ]
    }
   ],
   "source": [
    "device = torch.device(\"cuda:0\" if torch.cuda.is_available() else \"cpu\")\n",
    "# torch.cuda.set_device(device)\n",
    "print(device)"
   ]
  },
  {
   "cell_type": "code",
   "execution_count": 11,
   "metadata": {},
   "outputs": [],
   "source": [
    "class Train_Args:\n",
    "    def __getitem__(self, key):\n",
    "        return getattr(self, key)\n",
    "    def __setitem__(self, key, val):\n",
    "        setattr(self, key, val)\n",
    "    def __contains__(self, key):\n",
    "        return hasattr(self, key)\n",
    "\n",
    "    valid_size = 0.1 #@param {type: \"float\"}\n",
    "\n",
    "    n_epochs = 100 #@param {type: \"integer\"}\n",
    "    batch_size = 50 #@param {type: \"integer\"}\n",
    "    lr = 0.01 #@param {type: \"float\"}\n",
    "    \n",
    "    c_cluster_distance_weight = 100 #@param {type: \"float\"}\n",
    "    d_cluster_distance_weight = 100 #@param {type: \"float\"}\n",
    "    predict_loss_weight = 1000 #@param {type: \"float\"}\n",
    "    \n",
    "    c_save_path = 'data/model_fits/c_vae.pkl' #@param\n",
    "    d_save_path = 'data/model_fits/d_vae.pkl' #@param\n",
    "    \n",
    "    c_p_save_path = 'data/model_fits/c_vae_predictor.pkl' #@param\n",
    "    d_p_save_path = 'data/model_fits/d_vae_predictor.pkl' #@param\n",
    "    \n",
    "\n",
    "class CDPModel_sub_Args:\n",
    "    def __getitem__(self, key):\n",
    "        return getattr(self, key)\n",
    "    def __setitem__(self, key, val):\n",
    "        setattr(self, key, val)\n",
    "    def __contains__(self, key):\n",
    "        return hasattr(self, key)\n",
    "\n",
    "    # c_VAE\n",
    "    c_input_dim = 0 #@param {type: \"integer\"}\n",
    "    c_h_dims = [64] #@param {type: \"vactor\"}\n",
    "    c_latent_dim = 32 #@param {type: \"integer\"}\n",
    "\n",
    "    # d_VAE\n",
    "    d_input_dim = 0 #@param {type: \"integer\"}\n",
    "    d_h_dims = [64]  #@param {type: \"vactor\"}\n",
    "    d_latent_dim = 32 #@param {type: \"integer\"}\n",
    "\n",
    "    # predictor\n",
    "    p_sec_dim = 16 #@param {type: \"integer\"}\n",
    "    p_h_dims = [p_sec_dim*2, 16]  #@param {type: \"vactor\"}\n",
    "    \n",
    "    # all\n",
    "    drop_out = 0  #@param {type: \"float\"}\n"
   ]
  },
  {
   "cell_type": "code",
   "execution_count": 12,
   "metadata": {},
   "outputs": [],
   "source": [
    "train_args = Train_Args()\n",
    "\n",
    "K = len(c_meta['code'].unique())\n",
    "\n",
    "CDPmodel_args = CDPModel_sub_Args()\n",
    "CDPmodel_args['c_input_dim'] = c_data.shape[1] \n",
    "CDPmodel_args['d_input_dim'] = d_data.shape[1]\n",
    "\n",
    "if CDPmodel_args['c_input_dim'] <= 0:\n",
    "  warnings.warn(\n",
    "      '''\\nCancer Cell line feature number not specified''')\n",
    "if CDPmodel_args['d_input_dim'] <= 0:\n",
    "  warnings.warn(\n",
    "      '''\\nDrug feature number not specified''')"
   ]
  },
  {
   "cell_type": "markdown",
   "metadata": {},
   "source": [
    "# 3. Train Model"
   ]
  },
  {
   "cell_type": "code",
   "execution_count": 13,
   "metadata": {},
   "outputs": [
    {
     "ename": "TypeError",
     "evalue": "fit() got multiple values for argument 'n_rounds'",
     "output_type": "error",
     "traceback": [
      "\u001b[0;31m---------------------------------------------------------------------------\u001b[0m",
      "\u001b[0;31mTypeError\u001b[0m                                 Traceback (most recent call last)",
      "\u001b[0;32m<ipython-input-13-3cb2ff7ba9e6>\u001b[0m in \u001b[0;36m<module>\u001b[0;34m\u001b[0m\n\u001b[1;32m      1\u001b[0m \u001b[0mCDPmodel\u001b[0m \u001b[0;34m=\u001b[0m \u001b[0mCDPmodel\u001b[0m\u001b[0;34m(\u001b[0m\u001b[0mK\u001b[0m\u001b[0;34m,\u001b[0m \u001b[0mCDPmodel_args\u001b[0m\u001b[0;34m)\u001b[0m\u001b[0;34m\u001b[0m\u001b[0;34m\u001b[0m\u001b[0m\n\u001b[0;32m----> 2\u001b[0;31m \u001b[0mreturns\u001b[0m \u001b[0;34m=\u001b[0m \u001b[0mCDPmodel\u001b[0m\u001b[0;34m.\u001b[0m\u001b[0mfit\u001b[0m\u001b[0;34m(\u001b[0m\u001b[0mc_data\u001b[0m\u001b[0;34m,\u001b[0m \u001b[0mc_meta\u001b[0m\u001b[0;34m,\u001b[0m \u001b[0md_data\u001b[0m\u001b[0;34m,\u001b[0m \u001b[0mcdr_org\u001b[0m\u001b[0;34m,\u001b[0m \u001b[0mdevice\u001b[0m\u001b[0;34m,\u001b[0m \u001b[0mtrain_args\u001b[0m\u001b[0;34m,\u001b[0m \u001b[0mn_rounds\u001b[0m\u001b[0;34m=\u001b[0m\u001b[0;36m1\u001b[0m\u001b[0;34m)\u001b[0m\u001b[0;34m\u001b[0m\u001b[0;34m\u001b[0m\u001b[0m\n\u001b[0m\u001b[1;32m      3\u001b[0m \u001b[0;34m\u001b[0m\u001b[0m\n\u001b[1;32m      4\u001b[0m \u001b[0mc_meta\u001b[0m\u001b[0;34m,\u001b[0m \u001b[0mc_meta_hist\u001b[0m\u001b[0;34m,\u001b[0m \u001b[0md_sens_hist\u001b[0m\u001b[0;34m,\u001b[0m \u001b[0mlosses_train_hist_list\u001b[0m \u001b[0;34m=\u001b[0m \u001b[0mreturns\u001b[0m\u001b[0;34m\u001b[0m\u001b[0;34m\u001b[0m\u001b[0m\n",
      "\u001b[0;31mTypeError\u001b[0m: fit() got multiple values for argument 'n_rounds'"
     ]
    }
   ],
   "source": [
    "CDPmodel = CDPmodel(K, CDPmodel_args)\n",
    "returns = CDPmodel.fit(c_data, c_meta, d_data, cdr_org, train_args, n_rounds=1, device)\n",
    "\n",
    "c_meta, c_meta_hist, d_sens_hist, losses_train_hist_list = returns"
   ]
  },
  {
   "cell_type": "code",
   "execution_count": null,
   "metadata": {},
   "outputs": [],
   "source": [
    "c_name in CDPmodel.c_clusters_in_trainnig[0]"
   ]
  },
  {
   "cell_type": "markdown",
   "metadata": {},
   "source": [
    "# 4. Results and visualizations"
   ]
  },
  {
   "cell_type": "markdown",
   "metadata": {},
   "source": [
    "## Clusters"
   ]
  },
  {
   "cell_type": "code",
   "execution_count": null,
   "metadata": {},
   "outputs": [],
   "source": [
    "c_meta_hist = add_meta_code_b(c_meta_hist, K, b=0)\n",
    "print('Cancer clustering before:')\n",
    "print(c_meta_hist.code.value_counts())\n",
    "print('Cancer clustering after:')\n",
    "print(c_meta_hist.code_b0.value_counts())"
   ]
  },
  {
   "cell_type": "code",
   "execution_count": null,
   "metadata": {},
   "outputs": [],
   "source": [
    "d_sens_hist = add_sensk_to_d_sens_hist(d_sens_hist, K, b = -1)\n",
    "d_sens_hist = add_sensk_to_d_sens_hist(d_sens_hist, K, b = 0)\n",
    "print('Sensitive to clusters before:')\n",
    "print(d_sens_hist.sensitive_k.value_counts())\n",
    "print('Sensitive to clusters after:')\n",
    "print(d_sens_hist.sensitive_k_b0.value_counts())"
   ]
  },
  {
   "cell_type": "markdown",
   "metadata": {},
   "source": [
    "## Visualizations"
   ]
  },
  {
   "cell_type": "code",
   "execution_count": null,
   "metadata": {},
   "outputs": [],
   "source": [
    "import matplotlib.pyplot as plt\n",
    "import numpy as np\n",
    "from sklearn.decomposition import PCA\n",
    "import seaborn as sns"
   ]
  },
  {
   "cell_type": "code",
   "execution_count": null,
   "metadata": {},
   "outputs": [],
   "source": [
    "for k in range(K):\n",
    "    c_latent_k = CDPmodel.CDPmodel_list[k].c_VAE.encode(torch.from_numpy(c_data.values).float().to(device), repram=False)\n",
    "    plot_PCA_latent(latent = c_latent_k.detach().numpy(),\n",
    "                    label_org = c_meta_hist['code'].astype(str),\n",
    "                    label_updates = c_meta_hist['code_b0'].astype(str),\n",
    "                    legend_title = \"cluster\",\n",
    "                    k = k)\n"
   ]
  },
  {
   "cell_type": "code",
   "execution_count": null,
   "metadata": {},
   "outputs": [],
   "source": [
    "c_meta_hist.loc[c_meta_hist.code_b0 == '-1']"
   ]
  },
  {
   "cell_type": "code",
   "execution_count": null,
   "metadata": {},
   "outputs": [],
   "source": [
    "for k in range(K):\n",
    "    d_latent_k = CDPmodel.CDPmodel_list[k].d_VAE.encode(torch.from_numpy(d_data.values).float().to(device), repram=False)\n",
    "    plot_PCA_latent(latent = d_latent_k.detach().numpy(),\n",
    "                    label_org = d_sens_hist['sensitive_k'],\n",
    "                    label_updates = d_sens_hist['sensitive_k_b0'],\n",
    "                    legend_title = \"Sensitive to cluster k\",\n",
    "                    k = k)"
   ]
  },
  {
   "cell_type": "code",
   "execution_count": null,
   "metadata": {},
   "outputs": [],
   "source": [
    "plot_training_losses(losses_train_hist_list[0])"
   ]
  },
  {
   "cell_type": "code",
   "execution_count": null,
   "metadata": {
    "scrolled": true
   },
   "outputs": [],
   "source": [
    "plot_training_losses(losses_train_hist_list[1])"
   ]
  },
  {
   "cell_type": "code",
   "execution_count": null,
   "metadata": {},
   "outputs": [],
   "source": [
    "losses_train_hist_list[1][1]"
   ]
  },
  {
   "cell_type": "code",
   "execution_count": null,
   "metadata": {},
   "outputs": [],
   "source": []
  }
 ],
 "metadata": {
  "kernelspec": {
   "display_name": "Python 3",
   "language": "python",
   "name": "python3"
  },
  "language_info": {
   "codemirror_mode": {
    "name": "ipython",
    "version": 3
   },
   "file_extension": ".py",
   "mimetype": "text/x-python",
   "name": "python",
   "nbconvert_exporter": "python",
   "pygments_lexer": "ipython3",
   "version": "3.8.8"
  }
 },
 "nbformat": 4,
 "nbformat_minor": 4
}
