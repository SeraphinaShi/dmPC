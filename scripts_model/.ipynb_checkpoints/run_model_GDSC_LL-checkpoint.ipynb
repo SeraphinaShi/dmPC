{
 "cells": [
  {
   "cell_type": "markdown",
   "metadata": {},
   "source": [
    "# 0. Setup"
   ]
  },
  {
   "cell_type": "code",
   "execution_count": 1,
   "metadata": {},
   "outputs": [
    {
     "data": {
      "text/plain": [
       "'/Users/seraphinashi/Desktop/DataFusion/DrugResponse_Omics_Molecules'"
      ]
     },
     "execution_count": 1,
     "metadata": {},
     "output_type": "execute_result"
    }
   ],
   "source": [
    "# Verify we're in the correct working directory\n",
    "import os\n",
    "import git \n",
    "from pathlib import Path\n",
    "\n",
    "def get_project_root():\n",
    "    return Path(git.Repo('.', search_parent_directories=True).working_tree_dir)\n",
    "\n",
    "root = get_project_root()\n",
    "\n",
    "os.chdir(root)\n",
    "os.getcwd()"
   ]
  },
  {
   "cell_type": "code",
   "execution_count": 2,
   "metadata": {},
   "outputs": [],
   "source": [
    "plot_folder = \"images/GDSC/\""
   ]
  },
  {
   "cell_type": "markdown",
   "metadata": {},
   "source": [
    "## import packages, models, trainers"
   ]
  },
  {
   "cell_type": "code",
   "execution_count": 3,
   "metadata": {},
   "outputs": [
    {
     "name": "stderr",
     "output_type": "stream",
     "text": [
      "/Users/seraphinashi/opt/anaconda3/lib/python3.8/site-packages/scipy/__init__.py:138: UserWarning: A NumPy version >=1.16.5 and <1.23.0 is required for this version of SciPy (detected version 1.24.3)\n",
      "  warnings.warn(f\"A NumPy version >={np_minversion} and <{np_maxversion} is required for this version of \"\n"
     ]
    },
    {
     "name": "stdout",
     "output_type": "stream",
     "text": [
      "pytorch version: 1.13.1\n",
      "orig num threads: 4\n"
     ]
    }
   ],
   "source": [
    "import argparse\n",
    "import logging\n",
    "import sys\n",
    "import time\n",
    "import warnings\n",
    "\n",
    "import numpy as np\n",
    "import pandas as pd\n",
    "import matplotlib.pyplot as plt; plt.rcParams['figure.dpi'] = 200\n",
    "\n",
    "import torch\n",
    "from torch import nn, optim, Tensor\n",
    "from torch.nn import functional as F\n",
    "from torch.optim import lr_scheduler\n",
    "from torch.utils.data import DataLoader, TensorDataset\n",
    "\n",
    "from sklearn.model_selection import train_test_split\n",
    "\n",
    "print('pytorch version:', torch.__version__)\n",
    "print('orig num threads:', torch.get_num_threads())"
   ]
  },
  {
   "cell_type": "code",
   "execution_count": 4,
   "metadata": {},
   "outputs": [],
   "source": [
    "from models import *\n",
    "from trainers import *\n",
    "from losses import *\n",
    "from utils import *\n",
    "from cpd_smiles_embed import *"
   ]
  },
  {
   "cell_type": "code",
   "execution_count": 5,
   "metadata": {},
   "outputs": [],
   "source": [
    "import random\n",
    "seed=42\n",
    "\n",
    "torch.manual_seed(seed)\n",
    "torch.cuda.manual_seed(seed)\n",
    "torch.cuda.manual_seed_all(seed)\n",
    "\n",
    "random.seed(seed)\n",
    "np.random.seed(seed)\n",
    "os.environ['PYTHONHASHSEED'] = str(seed)\n",
    "\n",
    "torch.backends.cudnn.deterministic = True\n",
    "torch.backends.cudnn.benchmark = False"
   ]
  },
  {
   "cell_type": "markdown",
   "metadata": {},
   "source": [
    "# 1. Prepare dataset"
   ]
  },
  {
   "cell_type": "markdown",
   "metadata": {},
   "source": [
    "## Load "
   ]
  },
  {
   "cell_type": "code",
   "execution_count": 6,
   "metadata": {},
   "outputs": [],
   "source": [
    "data_folder = \"data/GDSC\"\n",
    "c_data = pd.read_csv(os.path.join(data_folder, \"c_data.csv\"), index_col = 0)\n",
    "c_meta = pd.read_csv(os.path.join(data_folder, \"c_meta.csv\"), index_col = 0)\n",
    "# RNAseq_meta['COSMIC_ID'] = RNAseq_meta['COSMIC_ID'].astype(int)\n",
    "\n",
    "d_data = pd.read_csv(os.path.join(data_folder, \"d_data.csv\"), index_col = 0)\n",
    "\n",
    "cdr = pd.read_csv(os.path.join(data_folder, \"cdr.csv\"), index_col = 0)"
   ]
  },
  {
   "cell_type": "code",
   "execution_count": 7,
   "metadata": {},
   "outputs": [
    {
     "data": {
      "text/plain": [
       "(847, 174)"
      ]
     },
     "execution_count": 7,
     "metadata": {},
     "output_type": "execute_result"
    }
   ],
   "source": [
    "cdr.shape"
   ]
  },
  {
   "cell_type": "markdown",
   "metadata": {},
   "source": [
    "## Prepare data\n",
    "Leukemia & Lymphoma "
   ]
  },
  {
   "cell_type": "code",
   "execution_count": 8,
   "metadata": {},
   "outputs": [],
   "source": [
    "c_types = [\"ALL\", \"LAML\", \"LCML\", \"DLBC\"] # \"CLL\", \n",
    "\n",
    "c_meta = c_meta[c_meta[\"cancer_type\"].isin(c_types)]\n",
    "c_data = c_data[c_data.index.isin(c_meta[\"COSMIC_ID\"])]\n",
    "cdr = cdr[cdr.index.isin(c_meta[\"COSMIC_ID\"])]"
   ]
  },
  {
   "cell_type": "code",
   "execution_count": 9,
   "metadata": {},
   "outputs": [
    {
     "data": {
      "text/plain": [
       "(92, 174)"
      ]
     },
     "execution_count": 9,
     "metadata": {},
     "output_type": "execute_result"
    }
   ],
   "source": [
    "cdr.shape"
   ]
  },
  {
   "cell_type": "code",
   "execution_count": 10,
   "metadata": {},
   "outputs": [
    {
     "name": "stdout",
     "output_type": "stream",
     "text": [
      "Cancer type coding map: \n",
      "   C_type  code  count\n",
      "0     ALL     0     26\n",
      "5    DLBC     1     31\n",
      "10   LAML     2     25\n",
      "15   LCML     3     10\n"
     ]
    }
   ],
   "source": [
    "# 1. prepare c_meta, \n",
    "c_meta_id_col_name = 'COSMIC_ID'\n",
    "c_meta_type_col_name = 'cancer_type'\n",
    "\n",
    "c_meta = c_meta[[c_meta_id_col_name, c_meta_type_col_name]]\n",
    "c_meta = c_meta.rename(columns = {c_meta_id_col_name:'C_ID', c_meta_type_col_name:'C_type'})\n",
    "c_meta = c_meta[~c_meta['C_ID'].isnull()]\n",
    "\n",
    "c_meta, meta_map = get_CCL_meta_codes(c_data.index.values, c_meta)\n",
    "c_meta.index = c_meta.index.astype(str)\n",
    "\n",
    "print(f\"Cancer type coding map: \")\n",
    "print(meta_map)"
   ]
  },
  {
   "cell_type": "code",
   "execution_count": 11,
   "metadata": {},
   "outputs": [
    {
     "data": {
      "text/plain": [
       "(92, 5703)"
      ]
     },
     "execution_count": 11,
     "metadata": {},
     "output_type": "execute_result"
    }
   ],
   "source": [
    "# 2. prepare c_data\n",
    "## make sure: \n",
    "##   1. the index (row names) is cancer cell line names\n",
    "c_data.index = c_data.index.astype(str)\n",
    "c_data.shape"
   ]
  },
  {
   "cell_type": "code",
   "execution_count": 12,
   "metadata": {},
   "outputs": [
    {
     "data": {
      "text/plain": [
       "(174, 75)"
      ]
     },
     "execution_count": 12,
     "metadata": {},
     "output_type": "execute_result"
    }
   ],
   "source": [
    "# 3. prepare d_data\n",
    "## make sure: \n",
    "##   1. the index (row names) is drug names\n",
    "# cpd_smiles = cpd_smiles[['drug_id', 'smiles']]\n",
    "# cpd_smiles = cpd_smiles.set_index('drug_id')\n",
    "\n",
    "# d_data = smiles_to_AtonBondDescriptor_PCAembedings(cpd_smiles)\n",
    "d_data.index = d_data.index.astype(str)\n",
    "\n",
    "d_data.shape"
   ]
  },
  {
   "cell_type": "code",
   "execution_count": 13,
   "metadata": {},
   "outputs": [
    {
     "name": "stdout",
     "output_type": "stream",
     "text": [
      "cdr shape: (92, 174)\n",
      "c_data shape: (92, 5703)\n",
      "c_meta shape: (92, 5)\n",
      "d_data shape: (174, 75)\n"
     ]
    }
   ],
   "source": [
    "# 4. prepare cdr\n",
    "## make sure: \n",
    "##   1. the index (row names) is cancer cell line names\n",
    "##   2. the columns (column names) is drug names\n",
    "cdr.index = cdr.index.astype(\"str\")\n",
    "\n",
    "common_drugs = list(set(cdr.columns).intersection(set(d_data.index)))\n",
    "cdr = cdr[common_drugs]\n",
    "d_data = d_data.loc[common_drugs]\n",
    "\n",
    "common_cancers = list(set(cdr.index).intersection(set(c_data.index)))\n",
    "cdr = cdr.loc[common_cancers]\n",
    "c_data = c_data.loc[common_cancers]\n",
    "c_meta = c_meta.loc[common_cancers]\n",
    "\n",
    "print(f'cdr shape: {cdr.shape}')\n",
    "print(f'c_data shape: {c_data.shape}')\n",
    "print(f'c_meta shape: {c_meta.shape}')\n",
    "print(f'd_data shape: {d_data.shape}')"
   ]
  },
  {
   "cell_type": "code",
   "execution_count": 14,
   "metadata": {},
   "outputs": [
    {
     "data": {
      "text/html": [
       "<div>\n",
       "<style scoped>\n",
       "    .dataframe tbody tr th:only-of-type {\n",
       "        vertical-align: middle;\n",
       "    }\n",
       "\n",
       "    .dataframe tbody tr th {\n",
       "        vertical-align: top;\n",
       "    }\n",
       "\n",
       "    .dataframe thead th {\n",
       "        text-align: right;\n",
       "    }\n",
       "</style>\n",
       "<table border=\"1\" class=\"dataframe\">\n",
       "  <thead>\n",
       "    <tr style=\"text-align: right;\">\n",
       "      <th></th>\n",
       "      <th>code</th>\n",
       "      <th>k0</th>\n",
       "      <th>k2</th>\n",
       "      <th>k3</th>\n",
       "      <th>k1</th>\n",
       "    </tr>\n",
       "  </thead>\n",
       "  <tbody>\n",
       "    <tr>\n",
       "      <th>907799</th>\n",
       "      <td>1</td>\n",
       "      <td>0</td>\n",
       "      <td>0</td>\n",
       "      <td>0</td>\n",
       "      <td>1</td>\n",
       "    </tr>\n",
       "    <tr>\n",
       "      <th>1331045</th>\n",
       "      <td>1</td>\n",
       "      <td>0</td>\n",
       "      <td>0</td>\n",
       "      <td>0</td>\n",
       "      <td>1</td>\n",
       "    </tr>\n",
       "    <tr>\n",
       "      <th>907272</th>\n",
       "      <td>0</td>\n",
       "      <td>1</td>\n",
       "      <td>0</td>\n",
       "      <td>0</td>\n",
       "      <td>0</td>\n",
       "    </tr>\n",
       "    <tr>\n",
       "      <th>907278</th>\n",
       "      <td>2</td>\n",
       "      <td>0</td>\n",
       "      <td>1</td>\n",
       "      <td>0</td>\n",
       "      <td>0</td>\n",
       "    </tr>\n",
       "    <tr>\n",
       "      <th>909252</th>\n",
       "      <td>0</td>\n",
       "      <td>1</td>\n",
       "      <td>0</td>\n",
       "      <td>0</td>\n",
       "      <td>0</td>\n",
       "    </tr>\n",
       "  </tbody>\n",
       "</table>\n",
       "</div>"
      ],
      "text/plain": [
       "         code  k0  k2  k3  k1\n",
       "907799      1   0   0   0   1\n",
       "1331045     1   0   0   0   1\n",
       "907272      0   1   0   0   0\n",
       "907278      2   0   1   0   0\n",
       "909252      0   1   0   0   0"
      ]
     },
     "execution_count": 14,
     "metadata": {},
     "output_type": "execute_result"
    }
   ],
   "source": [
    "c_meta.head()"
   ]
  },
  {
   "cell_type": "code",
   "execution_count": 15,
   "metadata": {},
   "outputs": [
    {
     "name": "stdout",
     "output_type": "stream",
     "text": [
      "1006    0.588235\n",
      "1529    0.870968\n",
      "1129    0.142857\n",
      "2039    0.035714\n",
      "1560    0.193548\n",
      "          ...   \n",
      "2044    0.193548\n",
      "2157    0.058824\n",
      "1810    0.777778\n",
      "1778    0.333333\n",
      "1024    0.500000\n",
      "Length: 174, dtype: float64\n"
     ]
    },
    {
     "data": {
      "text/plain": [
       "73"
      ]
     },
     "execution_count": 15,
     "metadata": {},
     "output_type": "execute_result"
    }
   ],
   "source": [
    "cdr_meso = cdr[cdr.index.isin(c_meta.index.values[c_meta['k1']==1])]\n",
    "column_means = cdr_meso.mean()\n",
    "\n",
    "# Print the mean values\n",
    "print(column_means)\n",
    "\n",
    "sum(column_means > 0.4)"
   ]
  },
  {
   "cell_type": "markdown",
   "metadata": {},
   "source": [
    "# 2. Hyperparameters"
   ]
  },
  {
   "cell_type": "code",
   "execution_count": 16,
   "metadata": {},
   "outputs": [
    {
     "name": "stdout",
     "output_type": "stream",
     "text": [
      "cpu\n"
     ]
    }
   ],
   "source": [
    "device = torch.device(\"cuda:0\" if torch.cuda.is_available() else \"cpu\")\n",
    "# torch.cuda.set_device(device)\n",
    "print(device)"
   ]
  },
  {
   "cell_type": "code",
   "execution_count": 17,
   "metadata": {},
   "outputs": [],
   "source": [
    "class Train_Args:\n",
    "    def __getitem__(self, key):\n",
    "        return getattr(self, key)\n",
    "    def __setitem__(self, key, val):\n",
    "        setattr(self, key, val)\n",
    "    def __contains__(self, key):\n",
    "        return hasattr(self, key)\n",
    "\n",
    "    valid_size = 0.1 #@param {type: \"float\"}\n",
    "\n",
    "    n_epochs = 100 #@param {type: \"integer\"}\n",
    "    batch_size = 50 #@param {type: \"integer\"}\n",
    "    lr = 0.01 #@param {type: \"float\"}\n",
    "    \n",
    "    C_VAE_loss_weight = 1 #@param {type: \"float\"}\n",
    "    C_recon_loss_weight = 0.5 #@param {type: \"float\"}\n",
    "    C_kld_weight = 0.8 #@param {type: \"float\"}\n",
    "    C_cluster_distance_weight = 150 #@param {type: \"float\"}\n",
    "    C_update_ratio_weight = 1e+03 #@param {type: \"float\"}\n",
    "    C_update_ratio_weight = 10 #@param {type: \"float\"}\n",
    "    \n",
    "    D_VAE_loss_weight = 1 #@param {type: \"float\"}\n",
    "    D_recon_loss_weight = 1 #@param {type: \"float\"}\n",
    "    D_kld_weight = 1 #@param {type: \"float\"}\n",
    "    D_cluster_distance_weight = 100 #@param {type: \"float\"}\n",
    "    D_update_ratio_weight = 1e+03 #@param {type: \"float\"}\n",
    "    D_update_ratio_weight = 10 #@param {type: \"float\"}\n",
    "    \n",
    "    predict_loss_weight = 2000 #@param {type: \"float\"}\n",
    "    \n",
    "    cVAE_save_path = 'data/model_fits/GDSC_ll_c_vae' #@param\n",
    "    dVAE_save_path = 'data/model_fits/GDSC_ll_d_vae' #@param\n",
    "    \n",
    "    c_p_save_path = 'data/model_fits/GDSC_ll_c_vae_predictor' #@param\n",
    "    d_p_save_path = 'data/model_fits/GDSC_ll_d_vae_predictor' #@param\n",
    "\n",
    "    \n",
    "\n",
    "class CDPModel_sub_Args:\n",
    "    def __getitem__(self, key):\n",
    "        return getattr(self, key)\n",
    "    def __setitem__(self, key, val):\n",
    "        setattr(self, key, val)\n",
    "    def __contains__(self, key):\n",
    "        return hasattr(self, key)\n",
    "\n",
    "    # c_VAE\n",
    "    c_input_dim = 0 #@param {type: \"integer\"}\n",
    "    c_h_dims = [1024, 512, 256] #@param {type: \"vactor\"}\n",
    "    c_latent_dim = 32 #@param {type: \"integer\"}\n",
    "\n",
    "    # d_VAE\n",
    "    d_input_dim = 0 #@param {type: \"integer\"}\n",
    "    d_h_dims = [64]  #@param {type: \"vactor\"}\n",
    "    d_latent_dim = 32 #@param {type: \"integer\"}\n",
    "\n",
    "    # predictor\n",
    "    p_sec_dim = 16 #@param {type: \"integer\"}\n",
    "    p_h_dims = [p_sec_dim*2, 16]  #@param {type: \"vactor\"}\n",
    "    \n",
    "    # all\n",
    "    drop_out = 0  #@param {type: \"float\"}\n",
    "    \n",
    "    # sensitive threshold\n",
    "    sens_cutoff = 0.5\n",
    "    \n",
    "\n"
   ]
  },
  {
   "cell_type": "code",
   "execution_count": 18,
   "metadata": {},
   "outputs": [],
   "source": [
    "train_args = Train_Args()\n",
    "\n",
    "K = len(c_meta[c_meta['code'] != -1]['code'].unique())\n",
    "\n",
    "CDPmodel_args = CDPModel_sub_Args()\n",
    "CDPmodel_args['c_input_dim'] = c_data.shape[1] \n",
    "CDPmodel_args['d_input_dim'] = d_data.shape[1]\n",
    "\n",
    "if CDPmodel_args['c_input_dim'] <= 0:\n",
    "  warnings.warn(\n",
    "      '''\\nCancer Cell line feature number not specified''')\n",
    "if CDPmodel_args['d_input_dim'] <= 0:\n",
    "  warnings.warn(\n",
    "      '''\\nDrug feature number not specified''')"
   ]
  },
  {
   "cell_type": "markdown",
   "metadata": {},
   "source": [
    "# 3. Train Model"
   ]
  },
  {
   "cell_type": "code",
   "execution_count": 19,
   "metadata": {},
   "outputs": [],
   "source": [
    "CDPmodel = CDPmodel(K, CDPmodel_args)"
   ]
  },
  {
   "cell_type": "code",
   "execution_count": 20,
   "metadata": {},
   "outputs": [
    {
     "name": "stdout",
     "output_type": "stream",
     "text": [
      "=> Initialize C-VAE:\n",
      "        Best epoc with test loss: epoch 99\n",
      "        Running time: 30.92147183418274\n",
      "=> Initialize D-VAE:\n",
      "        Best epoc with test loss: epoch 92\n",
      "        Running time: 0.8125488758087158\n",
      "=> round 0 <==================================\n",
      "------------k = 0-------------------\n",
      " - Training CDP model with k = 0\n",
      "   a. Training D_VAE and Predictor\n"
     ]
    },
    {
     "ename": "KeyboardInterrupt",
     "evalue": "",
     "output_type": "error",
     "traceback": [
      "\u001b[0;31m---------------------------------------------------------------------------\u001b[0m",
      "\u001b[0;31mKeyboardInterrupt\u001b[0m                         Traceback (most recent call last)",
      "\u001b[0;32m<ipython-input-20-28b0ff4f0a04>\u001b[0m in \u001b[0;36m<module>\u001b[0;34m\u001b[0m\n\u001b[1;32m      1\u001b[0m \u001b[0mn_rounds\u001b[0m \u001b[0;34m=\u001b[0m \u001b[0;36m3\u001b[0m\u001b[0;34m\u001b[0m\u001b[0;34m\u001b[0m\u001b[0m\n\u001b[0;32m----> 2\u001b[0;31m \u001b[0mreturns\u001b[0m \u001b[0;34m=\u001b[0m \u001b[0mCDPmodel\u001b[0m\u001b[0;34m.\u001b[0m\u001b[0mfit\u001b[0m\u001b[0;34m(\u001b[0m\u001b[0mc_data\u001b[0m\u001b[0;34m,\u001b[0m \u001b[0mc_meta\u001b[0m\u001b[0;34m,\u001b[0m \u001b[0md_data\u001b[0m\u001b[0;34m,\u001b[0m \u001b[0mcdr\u001b[0m\u001b[0;34m,\u001b[0m \u001b[0mtrain_args\u001b[0m\u001b[0;34m,\u001b[0m \u001b[0mn_rounds\u001b[0m\u001b[0;34m=\u001b[0m\u001b[0mn_rounds\u001b[0m\u001b[0;34m,\u001b[0m \u001b[0mdevice\u001b[0m \u001b[0;34m=\u001b[0m \u001b[0mdevice\u001b[0m\u001b[0;34m)\u001b[0m\u001b[0;34m\u001b[0m\u001b[0;34m\u001b[0m\u001b[0m\n\u001b[0m\u001b[1;32m      3\u001b[0m \u001b[0mc_meta\u001b[0m\u001b[0;34m,\u001b[0m \u001b[0mc_meta_hist\u001b[0m\u001b[0;34m,\u001b[0m \u001b[0md_sens_hist\u001b[0m\u001b[0;34m,\u001b[0m \u001b[0mlosses_train_hist_list\u001b[0m\u001b[0;34m,\u001b[0m \u001b[0mbest_epos_list\u001b[0m\u001b[0;34m,\u001b[0m \u001b[0mc_latent_list\u001b[0m\u001b[0;34m,\u001b[0m \u001b[0md_latent_list\u001b[0m \u001b[0;34m=\u001b[0m \u001b[0mreturns\u001b[0m\u001b[0;34m\u001b[0m\u001b[0;34m\u001b[0m\u001b[0m\n",
      "\u001b[0;32m~/Desktop/DataFusion/DrugResponse_Omics_Molecules/scripts_model/models.py\u001b[0m in \u001b[0;36mfit\u001b[0;34m(self, c_data, c_meta, d_data, cdr, train_params, n_rounds, device)\u001b[0m\n\u001b[1;32m    169\u001b[0m                 \u001b[0mc_names_k_init\u001b[0m \u001b[0;34m=\u001b[0m \u001b[0mc_meta_k\u001b[0m\u001b[0;34m.\u001b[0m\u001b[0mindex\u001b[0m\u001b[0;34m.\u001b[0m\u001b[0mvalues\u001b[0m\u001b[0;34m[\u001b[0m\u001b[0mc_meta_k\u001b[0m\u001b[0;34m.\u001b[0m\u001b[0mkey\u001b[0m \u001b[0;34m==\u001b[0m \u001b[0;36m1\u001b[0m\u001b[0;34m]\u001b[0m\u001b[0;34m\u001b[0m\u001b[0;34m\u001b[0m\u001b[0m\n\u001b[1;32m    170\u001b[0m \u001b[0;34m\u001b[0m\u001b[0m\n\u001b[0;32m--> 171\u001b[0;31m                 \u001b[0mself\u001b[0m\u001b[0;34m.\u001b[0m\u001b[0mCDPmodel_list\u001b[0m\u001b[0;34m[\u001b[0m\u001b[0mk\u001b[0m\u001b[0;34m]\u001b[0m\u001b[0;34m,\u001b[0m \u001b[0mc_centroid\u001b[0m\u001b[0;34m,\u001b[0m \u001b[0md_centroid\u001b[0m\u001b[0;34m,\u001b[0m \u001b[0mc_sd\u001b[0m\u001b[0;34m,\u001b[0m \u001b[0md_sd\u001b[0m\u001b[0;34m,\u001b[0m \u001b[0mc_name_cluster_k\u001b[0m\u001b[0;34m,\u001b[0m \u001b[0md_name_sensitive_k\u001b[0m\u001b[0;34m,\u001b[0m \u001b[0mlosses_train_hist\u001b[0m\u001b[0;34m,\u001b[0m \u001b[0mbest_epos\u001b[0m\u001b[0;34m,\u001b[0m \u001b[0mc_meta_k\u001b[0m\u001b[0;34m,\u001b[0m \u001b[0md_sens_k\u001b[0m \u001b[0;34m=\u001b[0m \u001b[0mtrain_CDPmodel_sub_1round\u001b[0m\u001b[0;34m(\u001b[0m\u001b[0mself\u001b[0m\u001b[0;34m.\u001b[0m\u001b[0mCDPmodel_list\u001b[0m\u001b[0;34m[\u001b[0m\u001b[0mk\u001b[0m\u001b[0;34m]\u001b[0m\u001b[0;34m,\u001b[0m \u001b[0mdevice\u001b[0m\u001b[0;34m,\u001b[0m \u001b[0mc_data\u001b[0m\u001b[0;34m,\u001b[0m \u001b[0mc_meta_k\u001b[0m\u001b[0;34m,\u001b[0m \u001b[0md_data\u001b[0m\u001b[0;34m,\u001b[0m \u001b[0mcdr\u001b[0m\u001b[0;34m,\u001b[0m \u001b[0mc_names_k_init\u001b[0m\u001b[0;34m,\u001b[0m \u001b[0md_names_k_init\u001b[0m\u001b[0;34m,\u001b[0m \u001b[0mself\u001b[0m\u001b[0;34m.\u001b[0m\u001b[0msens_cutoff\u001b[0m\u001b[0;34m,\u001b[0m \u001b[0mk\u001b[0m\u001b[0;34m,\u001b[0m \u001b[0mtrain_params\u001b[0m\u001b[0;34m)\u001b[0m\u001b[0;34m\u001b[0m\u001b[0;34m\u001b[0m\u001b[0m\n\u001b[0m\u001b[1;32m    172\u001b[0m \u001b[0;34m\u001b[0m\u001b[0m\n\u001b[1;32m    173\u001b[0m                 \u001b[0;31m# store the centroids\u001b[0m\u001b[0;34m\u001b[0m\u001b[0;34m\u001b[0m\u001b[0;34m\u001b[0m\u001b[0m\n",
      "\u001b[0;32m~/Desktop/DataFusion/DrugResponse_Omics_Molecules/scripts_model/trainers.py\u001b[0m in \u001b[0;36mtrain_CDPmodel_sub_1round\u001b[0;34m(model, device, c_data, c_meta_k, d_data, cdr_org, c_names_k_init, d_names_k_init, sens_cutoff, k, params)\u001b[0m\n\u001b[1;32m    135\u001b[0m     \u001b[0mprint\u001b[0m\u001b[0;34m(\u001b[0m\u001b[0;34mf\"   a. Training D_VAE and Predictor\"\u001b[0m\u001b[0;34m)\u001b[0m\u001b[0;34m\u001b[0m\u001b[0;34m\u001b[0m\u001b[0m\n\u001b[1;32m    136\u001b[0m     \u001b[0mstart\u001b[0m \u001b[0;34m=\u001b[0m \u001b[0mtime\u001b[0m\u001b[0;34m.\u001b[0m\u001b[0mtime\u001b[0m\u001b[0;34m(\u001b[0m\u001b[0;34m)\u001b[0m\u001b[0;34m\u001b[0m\u001b[0;34m\u001b[0m\u001b[0m\n\u001b[0;32m--> 137\u001b[0;31m     model, loss_train_hist, best_epo_a = train_CDPmodel_sub(\n\u001b[0m\u001b[1;32m    138\u001b[0m         \u001b[0mmodel\u001b[0m\u001b[0;34m=\u001b[0m\u001b[0mmodel\u001b[0m\u001b[0;34m,\u001b[0m\u001b[0;34m\u001b[0m\u001b[0;34m\u001b[0m\u001b[0m\n\u001b[1;32m    139\u001b[0m         \u001b[0mdata_loaders\u001b[0m\u001b[0;34m=\u001b[0m\u001b[0mdataloaders_DP\u001b[0m\u001b[0;34m,\u001b[0m\u001b[0;34m\u001b[0m\u001b[0;34m\u001b[0m\u001b[0m\n",
      "\u001b[0;32m~/Desktop/DataFusion/DrugResponse_Omics_Molecules/scripts_model/trainers.py\u001b[0m in \u001b[0;36mtrain_CDPmodel_sub\u001b[0;34m(model, data_loaders, c_names_k_old, d_names_k_old, C_VAE_loss_weight, C_recon_loss_weight, C_kld_weight, C_cluster_distance_weight, C_update_ratio_weight, D_VAE_loss_weight, D_recon_loss_weight, D_kld_weight, D_cluster_distance_weight, D_update_ratio_weight, predict_loss_weight, sens_cutoff, optimizer, n_epochs, scheduler, load, save_path, best_model_cache)\u001b[0m\n\u001b[1;32m    407\u001b[0m \u001b[0;34m\u001b[0m\u001b[0m\n\u001b[1;32m    408\u001b[0m                 \u001b[0;31m# encode and decode\u001b[0m\u001b[0;34m\u001b[0m\u001b[0;34m\u001b[0m\u001b[0;34m\u001b[0m\u001b[0m\n\u001b[0;32m--> 409\u001b[0;31m                 \u001b[0mc_mu\u001b[0m\u001b[0;34m,\u001b[0m \u001b[0mc_log_var\u001b[0m\u001b[0;34m,\u001b[0m \u001b[0mc_X_rec\u001b[0m\u001b[0;34m,\u001b[0m \u001b[0md_mu\u001b[0m\u001b[0;34m,\u001b[0m \u001b[0md_log_var\u001b[0m\u001b[0;34m,\u001b[0m \u001b[0md_X_rec\u001b[0m\u001b[0;34m,\u001b[0m \u001b[0my_hat\u001b[0m \u001b[0;34m=\u001b[0m \u001b[0mmodel\u001b[0m\u001b[0;34m(\u001b[0m\u001b[0mc_data\u001b[0m\u001b[0;34m,\u001b[0m \u001b[0md_data\u001b[0m\u001b[0;34m)\u001b[0m\u001b[0;34m\u001b[0m\u001b[0;34m\u001b[0m\u001b[0m\n\u001b[0m\u001b[1;32m    410\u001b[0m \u001b[0;34m\u001b[0m\u001b[0m\n\u001b[1;32m    411\u001b[0m                 \u001b[0msensitive\u001b[0m \u001b[0;34m=\u001b[0m \u001b[0my_hat\u001b[0m \u001b[0;34m>\u001b[0m \u001b[0msens_cutoff\u001b[0m\u001b[0;34m\u001b[0m\u001b[0;34m\u001b[0m\u001b[0m\n",
      "\u001b[0;32m~/opt/anaconda3/lib/python3.8/site-packages/torch/nn/modules/module.py\u001b[0m in \u001b[0;36m_call_impl\u001b[0;34m(self, *input, **kwargs)\u001b[0m\n\u001b[1;32m   1192\u001b[0m         if not (self._backward_hooks or self._forward_hooks or self._forward_pre_hooks or _global_backward_hooks\n\u001b[1;32m   1193\u001b[0m                 or _global_forward_hooks or _global_forward_pre_hooks):\n\u001b[0;32m-> 1194\u001b[0;31m             \u001b[0;32mreturn\u001b[0m \u001b[0mforward_call\u001b[0m\u001b[0;34m(\u001b[0m\u001b[0;34m*\u001b[0m\u001b[0minput\u001b[0m\u001b[0;34m,\u001b[0m \u001b[0;34m**\u001b[0m\u001b[0mkwargs\u001b[0m\u001b[0;34m)\u001b[0m\u001b[0;34m\u001b[0m\u001b[0;34m\u001b[0m\u001b[0m\n\u001b[0m\u001b[1;32m   1195\u001b[0m         \u001b[0;31m# Do not call functions when jit is used\u001b[0m\u001b[0;34m\u001b[0m\u001b[0;34m\u001b[0m\u001b[0;34m\u001b[0m\u001b[0m\n\u001b[1;32m   1196\u001b[0m         \u001b[0mfull_backward_hooks\u001b[0m\u001b[0;34m,\u001b[0m \u001b[0mnon_full_backward_hooks\u001b[0m \u001b[0;34m=\u001b[0m \u001b[0;34m[\u001b[0m\u001b[0;34m]\u001b[0m\u001b[0;34m,\u001b[0m \u001b[0;34m[\u001b[0m\u001b[0;34m]\u001b[0m\u001b[0;34m\u001b[0m\u001b[0;34m\u001b[0m\u001b[0m\n",
      "\u001b[0;32m~/Desktop/DataFusion/DrugResponse_Omics_Molecules/scripts_model/models.py\u001b[0m in \u001b[0;36mforward\u001b[0;34m(self, c_X, d_X)\u001b[0m\n\u001b[1;32m    245\u001b[0m \u001b[0;34m\u001b[0m\u001b[0m\n\u001b[1;32m    246\u001b[0m     \u001b[0;32mdef\u001b[0m \u001b[0mforward\u001b[0m\u001b[0;34m(\u001b[0m\u001b[0mself\u001b[0m\u001b[0;34m,\u001b[0m \u001b[0mc_X\u001b[0m\u001b[0;34m:\u001b[0m \u001b[0mTensor\u001b[0m\u001b[0;34m,\u001b[0m \u001b[0md_X\u001b[0m\u001b[0;34m:\u001b[0m \u001b[0mTensor\u001b[0m\u001b[0;34m)\u001b[0m\u001b[0;34m:\u001b[0m\u001b[0;34m\u001b[0m\u001b[0;34m\u001b[0m\u001b[0m\n\u001b[0;32m--> 247\u001b[0;31m         \u001b[0m_\u001b[0m\u001b[0;34m,\u001b[0m \u001b[0mc_mu\u001b[0m\u001b[0;34m,\u001b[0m \u001b[0mc_log_var\u001b[0m\u001b[0;34m,\u001b[0m \u001b[0mc_Z\u001b[0m\u001b[0;34m,\u001b[0m \u001b[0mc_X_rec\u001b[0m \u001b[0;34m=\u001b[0m \u001b[0mself\u001b[0m\u001b[0;34m.\u001b[0m\u001b[0mc_VAE\u001b[0m\u001b[0;34m(\u001b[0m\u001b[0mc_X\u001b[0m\u001b[0;34m)\u001b[0m\u001b[0;34m\u001b[0m\u001b[0;34m\u001b[0m\u001b[0m\n\u001b[0m\u001b[1;32m    248\u001b[0m         \u001b[0m_\u001b[0m\u001b[0;34m,\u001b[0m \u001b[0md_mu\u001b[0m\u001b[0;34m,\u001b[0m \u001b[0md_log_var\u001b[0m\u001b[0;34m,\u001b[0m \u001b[0md_Z\u001b[0m\u001b[0;34m,\u001b[0m \u001b[0md_X_rec\u001b[0m \u001b[0;34m=\u001b[0m \u001b[0mself\u001b[0m\u001b[0;34m.\u001b[0m\u001b[0md_VAE\u001b[0m\u001b[0;34m(\u001b[0m\u001b[0md_X\u001b[0m\u001b[0;34m)\u001b[0m\u001b[0;34m\u001b[0m\u001b[0;34m\u001b[0m\u001b[0m\n\u001b[1;32m    249\u001b[0m         \u001b[0mCDR\u001b[0m \u001b[0;34m=\u001b[0m \u001b[0mself\u001b[0m\u001b[0;34m.\u001b[0m\u001b[0mpredictor\u001b[0m\u001b[0;34m(\u001b[0m\u001b[0mc_mu\u001b[0m\u001b[0;34m,\u001b[0m \u001b[0md_mu\u001b[0m\u001b[0;34m)\u001b[0m\u001b[0;34m\u001b[0m\u001b[0;34m\u001b[0m\u001b[0m\n",
      "\u001b[0;32m~/opt/anaconda3/lib/python3.8/site-packages/torch/nn/modules/module.py\u001b[0m in \u001b[0;36m_call_impl\u001b[0;34m(self, *input, **kwargs)\u001b[0m\n\u001b[1;32m   1192\u001b[0m         if not (self._backward_hooks or self._forward_hooks or self._forward_pre_hooks or _global_backward_hooks\n\u001b[1;32m   1193\u001b[0m                 or _global_forward_hooks or _global_forward_pre_hooks):\n\u001b[0;32m-> 1194\u001b[0;31m             \u001b[0;32mreturn\u001b[0m \u001b[0mforward_call\u001b[0m\u001b[0;34m(\u001b[0m\u001b[0;34m*\u001b[0m\u001b[0minput\u001b[0m\u001b[0;34m,\u001b[0m \u001b[0;34m**\u001b[0m\u001b[0mkwargs\u001b[0m\u001b[0;34m)\u001b[0m\u001b[0;34m\u001b[0m\u001b[0;34m\u001b[0m\u001b[0m\n\u001b[0m\u001b[1;32m   1195\u001b[0m         \u001b[0;31m# Do not call functions when jit is used\u001b[0m\u001b[0;34m\u001b[0m\u001b[0;34m\u001b[0m\u001b[0;34m\u001b[0m\u001b[0m\n\u001b[1;32m   1196\u001b[0m         \u001b[0mfull_backward_hooks\u001b[0m\u001b[0;34m,\u001b[0m \u001b[0mnon_full_backward_hooks\u001b[0m \u001b[0;34m=\u001b[0m \u001b[0;34m[\u001b[0m\u001b[0;34m]\u001b[0m\u001b[0;34m,\u001b[0m \u001b[0;34m[\u001b[0m\u001b[0;34m]\u001b[0m\u001b[0;34m\u001b[0m\u001b[0;34m\u001b[0m\u001b[0m\n",
      "\u001b[0;32m~/Desktop/DataFusion/DrugResponse_Omics_Molecules/scripts_model/models.py\u001b[0m in \u001b[0;36mforward\u001b[0;34m(self, X)\u001b[0m\n\u001b[1;32m    356\u001b[0m         \u001b[0mmu\u001b[0m\u001b[0;34m,\u001b[0m \u001b[0mlog_var\u001b[0m \u001b[0;34m=\u001b[0m \u001b[0mself\u001b[0m\u001b[0;34m.\u001b[0m\u001b[0mencode_\u001b[0m\u001b[0;34m(\u001b[0m\u001b[0mX\u001b[0m\u001b[0;34m)\u001b[0m\u001b[0;34m\u001b[0m\u001b[0;34m\u001b[0m\u001b[0m\n\u001b[1;32m    357\u001b[0m         \u001b[0mZ\u001b[0m \u001b[0;34m=\u001b[0m \u001b[0mself\u001b[0m\u001b[0;34m.\u001b[0m\u001b[0mreparameterize\u001b[0m\u001b[0;34m(\u001b[0m\u001b[0mmu\u001b[0m\u001b[0;34m,\u001b[0m \u001b[0mlog_var\u001b[0m\u001b[0;34m)\u001b[0m\u001b[0;34m\u001b[0m\u001b[0;34m\u001b[0m\u001b[0m\n\u001b[0;32m--> 358\u001b[0;31m         \u001b[0mX_rec\u001b[0m \u001b[0;34m=\u001b[0m \u001b[0mself\u001b[0m\u001b[0;34m.\u001b[0m\u001b[0mdecode\u001b[0m\u001b[0;34m(\u001b[0m\u001b[0mZ\u001b[0m\u001b[0;34m)\u001b[0m\u001b[0;34m\u001b[0m\u001b[0;34m\u001b[0m\u001b[0m\n\u001b[0m\u001b[1;32m    359\u001b[0m \u001b[0;34m\u001b[0m\u001b[0m\n\u001b[1;32m    360\u001b[0m         \u001b[0;32mreturn\u001b[0m \u001b[0;34m[\u001b[0m\u001b[0mX\u001b[0m\u001b[0;34m,\u001b[0m \u001b[0mmu\u001b[0m\u001b[0;34m,\u001b[0m \u001b[0mlog_var\u001b[0m\u001b[0;34m,\u001b[0m \u001b[0mZ\u001b[0m\u001b[0;34m,\u001b[0m \u001b[0mX_rec\u001b[0m\u001b[0;34m]\u001b[0m\u001b[0;34m\u001b[0m\u001b[0;34m\u001b[0m\u001b[0m\n",
      "\u001b[0;32m~/Desktop/DataFusion/DrugResponse_Omics_Molecules/scripts_model/models.py\u001b[0m in \u001b[0;36mdecode\u001b[0;34m(self, Z)\u001b[0m\n\u001b[1;32m    344\u001b[0m         \"\"\"\n\u001b[1;32m    345\u001b[0m         \u001b[0mresult\u001b[0m \u001b[0;34m=\u001b[0m \u001b[0mself\u001b[0m\u001b[0;34m.\u001b[0m\u001b[0mdecoder_first_layer\u001b[0m\u001b[0;34m(\u001b[0m\u001b[0mZ\u001b[0m\u001b[0;34m)\u001b[0m\u001b[0;34m\u001b[0m\u001b[0;34m\u001b[0m\u001b[0m\n\u001b[0;32m--> 346\u001b[0;31m         \u001b[0mresult\u001b[0m \u001b[0;34m=\u001b[0m \u001b[0mself\u001b[0m\u001b[0;34m.\u001b[0m\u001b[0mdecoder_body\u001b[0m\u001b[0;34m(\u001b[0m\u001b[0mresult\u001b[0m\u001b[0;34m)\u001b[0m\u001b[0;34m\u001b[0m\u001b[0;34m\u001b[0m\u001b[0m\n\u001b[0m\u001b[1;32m    347\u001b[0m         \u001b[0mX_rec\u001b[0m \u001b[0;34m=\u001b[0m \u001b[0mself\u001b[0m\u001b[0;34m.\u001b[0m\u001b[0mdecoder_last_layer\u001b[0m\u001b[0;34m(\u001b[0m\u001b[0mresult\u001b[0m\u001b[0;34m)\u001b[0m\u001b[0;34m\u001b[0m\u001b[0;34m\u001b[0m\u001b[0m\n\u001b[1;32m    348\u001b[0m \u001b[0;34m\u001b[0m\u001b[0m\n",
      "\u001b[0;32m~/opt/anaconda3/lib/python3.8/site-packages/torch/nn/modules/module.py\u001b[0m in \u001b[0;36m_call_impl\u001b[0;34m(self, *input, **kwargs)\u001b[0m\n\u001b[1;32m   1192\u001b[0m         if not (self._backward_hooks or self._forward_hooks or self._forward_pre_hooks or _global_backward_hooks\n\u001b[1;32m   1193\u001b[0m                 or _global_forward_hooks or _global_forward_pre_hooks):\n\u001b[0;32m-> 1194\u001b[0;31m             \u001b[0;32mreturn\u001b[0m \u001b[0mforward_call\u001b[0m\u001b[0;34m(\u001b[0m\u001b[0;34m*\u001b[0m\u001b[0minput\u001b[0m\u001b[0;34m,\u001b[0m \u001b[0;34m**\u001b[0m\u001b[0mkwargs\u001b[0m\u001b[0;34m)\u001b[0m\u001b[0;34m\u001b[0m\u001b[0;34m\u001b[0m\u001b[0m\n\u001b[0m\u001b[1;32m   1195\u001b[0m         \u001b[0;31m# Do not call functions when jit is used\u001b[0m\u001b[0;34m\u001b[0m\u001b[0;34m\u001b[0m\u001b[0;34m\u001b[0m\u001b[0m\n\u001b[1;32m   1196\u001b[0m         \u001b[0mfull_backward_hooks\u001b[0m\u001b[0;34m,\u001b[0m \u001b[0mnon_full_backward_hooks\u001b[0m \u001b[0;34m=\u001b[0m \u001b[0;34m[\u001b[0m\u001b[0;34m]\u001b[0m\u001b[0;34m,\u001b[0m \u001b[0;34m[\u001b[0m\u001b[0;34m]\u001b[0m\u001b[0;34m\u001b[0m\u001b[0;34m\u001b[0m\u001b[0m\n",
      "\u001b[0;32m~/opt/anaconda3/lib/python3.8/site-packages/torch/nn/modules/container.py\u001b[0m in \u001b[0;36mforward\u001b[0;34m(self, input)\u001b[0m\n\u001b[1;32m    202\u001b[0m     \u001b[0;32mdef\u001b[0m \u001b[0mforward\u001b[0m\u001b[0;34m(\u001b[0m\u001b[0mself\u001b[0m\u001b[0;34m,\u001b[0m \u001b[0minput\u001b[0m\u001b[0;34m)\u001b[0m\u001b[0;34m:\u001b[0m\u001b[0;34m\u001b[0m\u001b[0;34m\u001b[0m\u001b[0m\n\u001b[1;32m    203\u001b[0m         \u001b[0;32mfor\u001b[0m \u001b[0mmodule\u001b[0m \u001b[0;32min\u001b[0m \u001b[0mself\u001b[0m\u001b[0;34m:\u001b[0m\u001b[0;34m\u001b[0m\u001b[0;34m\u001b[0m\u001b[0m\n\u001b[0;32m--> 204\u001b[0;31m             \u001b[0minput\u001b[0m \u001b[0;34m=\u001b[0m \u001b[0mmodule\u001b[0m\u001b[0;34m(\u001b[0m\u001b[0minput\u001b[0m\u001b[0;34m)\u001b[0m\u001b[0;34m\u001b[0m\u001b[0;34m\u001b[0m\u001b[0m\n\u001b[0m\u001b[1;32m    205\u001b[0m         \u001b[0;32mreturn\u001b[0m \u001b[0minput\u001b[0m\u001b[0;34m\u001b[0m\u001b[0;34m\u001b[0m\u001b[0m\n\u001b[1;32m    206\u001b[0m \u001b[0;34m\u001b[0m\u001b[0m\n",
      "\u001b[0;32m~/opt/anaconda3/lib/python3.8/site-packages/torch/nn/modules/module.py\u001b[0m in \u001b[0;36m_call_impl\u001b[0;34m(self, *input, **kwargs)\u001b[0m\n\u001b[1;32m   1192\u001b[0m         if not (self._backward_hooks or self._forward_hooks or self._forward_pre_hooks or _global_backward_hooks\n\u001b[1;32m   1193\u001b[0m                 or _global_forward_hooks or _global_forward_pre_hooks):\n\u001b[0;32m-> 1194\u001b[0;31m             \u001b[0;32mreturn\u001b[0m \u001b[0mforward_call\u001b[0m\u001b[0;34m(\u001b[0m\u001b[0;34m*\u001b[0m\u001b[0minput\u001b[0m\u001b[0;34m,\u001b[0m \u001b[0;34m**\u001b[0m\u001b[0mkwargs\u001b[0m\u001b[0;34m)\u001b[0m\u001b[0;34m\u001b[0m\u001b[0;34m\u001b[0m\u001b[0m\n\u001b[0m\u001b[1;32m   1195\u001b[0m         \u001b[0;31m# Do not call functions when jit is used\u001b[0m\u001b[0;34m\u001b[0m\u001b[0;34m\u001b[0m\u001b[0;34m\u001b[0m\u001b[0m\n\u001b[1;32m   1196\u001b[0m         \u001b[0mfull_backward_hooks\u001b[0m\u001b[0;34m,\u001b[0m \u001b[0mnon_full_backward_hooks\u001b[0m \u001b[0;34m=\u001b[0m \u001b[0;34m[\u001b[0m\u001b[0;34m]\u001b[0m\u001b[0;34m,\u001b[0m \u001b[0;34m[\u001b[0m\u001b[0;34m]\u001b[0m\u001b[0;34m\u001b[0m\u001b[0;34m\u001b[0m\u001b[0m\n",
      "\u001b[0;32m~/opt/anaconda3/lib/python3.8/site-packages/torch/nn/modules/container.py\u001b[0m in \u001b[0;36mforward\u001b[0;34m(self, input)\u001b[0m\n\u001b[1;32m    202\u001b[0m     \u001b[0;32mdef\u001b[0m \u001b[0mforward\u001b[0m\u001b[0;34m(\u001b[0m\u001b[0mself\u001b[0m\u001b[0;34m,\u001b[0m \u001b[0minput\u001b[0m\u001b[0;34m)\u001b[0m\u001b[0;34m:\u001b[0m\u001b[0;34m\u001b[0m\u001b[0;34m\u001b[0m\u001b[0m\n\u001b[1;32m    203\u001b[0m         \u001b[0;32mfor\u001b[0m \u001b[0mmodule\u001b[0m \u001b[0;32min\u001b[0m \u001b[0mself\u001b[0m\u001b[0;34m:\u001b[0m\u001b[0;34m\u001b[0m\u001b[0;34m\u001b[0m\u001b[0m\n\u001b[0;32m--> 204\u001b[0;31m             \u001b[0minput\u001b[0m \u001b[0;34m=\u001b[0m \u001b[0mmodule\u001b[0m\u001b[0;34m(\u001b[0m\u001b[0minput\u001b[0m\u001b[0;34m)\u001b[0m\u001b[0;34m\u001b[0m\u001b[0;34m\u001b[0m\u001b[0m\n\u001b[0m\u001b[1;32m    205\u001b[0m         \u001b[0;32mreturn\u001b[0m \u001b[0minput\u001b[0m\u001b[0;34m\u001b[0m\u001b[0;34m\u001b[0m\u001b[0m\n\u001b[1;32m    206\u001b[0m \u001b[0;34m\u001b[0m\u001b[0m\n",
      "\u001b[0;32m~/opt/anaconda3/lib/python3.8/site-packages/torch/nn/modules/module.py\u001b[0m in \u001b[0;36m_call_impl\u001b[0;34m(self, *input, **kwargs)\u001b[0m\n\u001b[1;32m   1192\u001b[0m         if not (self._backward_hooks or self._forward_hooks or self._forward_pre_hooks or _global_backward_hooks\n\u001b[1;32m   1193\u001b[0m                 or _global_forward_hooks or _global_forward_pre_hooks):\n\u001b[0;32m-> 1194\u001b[0;31m             \u001b[0;32mreturn\u001b[0m \u001b[0mforward_call\u001b[0m\u001b[0;34m(\u001b[0m\u001b[0;34m*\u001b[0m\u001b[0minput\u001b[0m\u001b[0;34m,\u001b[0m \u001b[0;34m**\u001b[0m\u001b[0mkwargs\u001b[0m\u001b[0;34m)\u001b[0m\u001b[0;34m\u001b[0m\u001b[0;34m\u001b[0m\u001b[0m\n\u001b[0m\u001b[1;32m   1195\u001b[0m         \u001b[0;31m# Do not call functions when jit is used\u001b[0m\u001b[0;34m\u001b[0m\u001b[0;34m\u001b[0m\u001b[0;34m\u001b[0m\u001b[0m\n\u001b[1;32m   1196\u001b[0m         \u001b[0mfull_backward_hooks\u001b[0m\u001b[0;34m,\u001b[0m \u001b[0mnon_full_backward_hooks\u001b[0m \u001b[0;34m=\u001b[0m \u001b[0;34m[\u001b[0m\u001b[0;34m]\u001b[0m\u001b[0;34m,\u001b[0m \u001b[0;34m[\u001b[0m\u001b[0;34m]\u001b[0m\u001b[0;34m\u001b[0m\u001b[0;34m\u001b[0m\u001b[0m\n",
      "\u001b[0;32m~/opt/anaconda3/lib/python3.8/site-packages/torch/nn/modules/linear.py\u001b[0m in \u001b[0;36mforward\u001b[0;34m(self, input)\u001b[0m\n\u001b[1;32m    112\u001b[0m \u001b[0;34m\u001b[0m\u001b[0m\n\u001b[1;32m    113\u001b[0m     \u001b[0;32mdef\u001b[0m \u001b[0mforward\u001b[0m\u001b[0;34m(\u001b[0m\u001b[0mself\u001b[0m\u001b[0;34m,\u001b[0m \u001b[0minput\u001b[0m\u001b[0;34m:\u001b[0m \u001b[0mTensor\u001b[0m\u001b[0;34m)\u001b[0m \u001b[0;34m->\u001b[0m \u001b[0mTensor\u001b[0m\u001b[0;34m:\u001b[0m\u001b[0;34m\u001b[0m\u001b[0;34m\u001b[0m\u001b[0m\n\u001b[0;32m--> 114\u001b[0;31m         \u001b[0;32mreturn\u001b[0m \u001b[0mF\u001b[0m\u001b[0;34m.\u001b[0m\u001b[0mlinear\u001b[0m\u001b[0;34m(\u001b[0m\u001b[0minput\u001b[0m\u001b[0;34m,\u001b[0m \u001b[0mself\u001b[0m\u001b[0;34m.\u001b[0m\u001b[0mweight\u001b[0m\u001b[0;34m,\u001b[0m \u001b[0mself\u001b[0m\u001b[0;34m.\u001b[0m\u001b[0mbias\u001b[0m\u001b[0;34m)\u001b[0m\u001b[0;34m\u001b[0m\u001b[0;34m\u001b[0m\u001b[0m\n\u001b[0m\u001b[1;32m    115\u001b[0m \u001b[0;34m\u001b[0m\u001b[0m\n\u001b[1;32m    116\u001b[0m     \u001b[0;32mdef\u001b[0m \u001b[0mextra_repr\u001b[0m\u001b[0;34m(\u001b[0m\u001b[0mself\u001b[0m\u001b[0;34m)\u001b[0m \u001b[0;34m->\u001b[0m \u001b[0mstr\u001b[0m\u001b[0;34m:\u001b[0m\u001b[0;34m\u001b[0m\u001b[0;34m\u001b[0m\u001b[0m\n",
      "\u001b[0;31mKeyboardInterrupt\u001b[0m: "
     ]
    }
   ],
   "source": [
    "n_rounds = 3\n",
    "returns = CDPmodel.fit(c_data, c_meta, d_data, cdr, train_args, n_rounds=n_rounds, device = device)\n",
    "c_meta, c_meta_hist, d_sens_hist, losses_train_hist_list, best_epos_list, c_latent_list, d_latent_list = returns"
   ]
  },
  {
   "cell_type": "markdown",
   "metadata": {},
   "source": [
    "# 4. Results and visualizations"
   ]
  },
  {
   "cell_type": "code",
   "execution_count": null,
   "metadata": {},
   "outputs": [],
   "source": [
    "cdr_hat = CDPmodel.predict(c_data, d_data)\n",
    "pd.crosstab(cdr_hat.cluster, cdr_hat.cdr_hat, rownames = ['cluster'], colnames = ['cdr_hat'])"
   ]
  },
  {
   "cell_type": "code",
   "execution_count": null,
   "metadata": {},
   "outputs": [],
   "source": [
    "#cdr_hat_org = cdr_hat.copy()\n",
    "#cdr_hat_org.loc[cdr_hat_org.cluster == '0 & 1', 'cdr_hat'] = '0.5'\n",
    "#cdr_hat_org.loc[cdr_hat_org.cluster == '1 & 0', 'cdr_hat'] = '0.5'\n",
    "#cdr_hat_org.loc[cdr_hat_org.cluster == '0 & 0', 'cdr_hat'] = '0'\n",
    "#\n",
    "#cdr_hat_org[\"cdr_hat\"] = pd.to_numeric(cdr_hat_org[\"cdr_hat\"], errors='coerce')\n",
    "#cdr_hat_org = cdr_hat_org.pivot(index='c_name', columns='d_name')['cdr_hat']\n",
    "#\n",
    "#cdr_hat_org_0 = cdr_hat_org.loc[cdr_hat.c_name[cdr_hat.cluster == '0']]\n",
    "#cdr_hat_org_01 = cdr_hat_org.loc[cdr_hat.c_name[cdr_hat.cluster == '0 & 1']]\n",
    "#cdr_hat_org_1 = cdr_hat_org.loc[cdr_hat.c_name[cdr_hat.cluster == '1']]\n",
    "#cdr_hat_org_2 = cdr_hat_org.loc[cdr_hat.c_name[cdr_hat.cluster == '1']]\n",
    "#\n",
    "#cdr_hat_org = pd.concat([cdr_hat_org_0, cdr_hat_org_01, cdr_hat_org_1, cdr_hat_org_2], axis=0)\n",
    "#\n",
    "#sns.heatmap(cdr_hat_org, cmap='YlGnBu')\n",
    "#plt.show()"
   ]
  },
  {
   "cell_type": "markdown",
   "metadata": {},
   "source": [
    "## Clusters"
   ]
  },
  {
   "cell_type": "code",
   "execution_count": null,
   "metadata": {
    "scrolled": true
   },
   "outputs": [],
   "source": [
    "print('Cancer clustering before:')\n",
    "print(c_meta_hist.code.value_counts())\n",
    "print('Cancer clustering after:')\n",
    "print(c_meta_hist.code_latest.value_counts())"
   ]
  },
  {
   "cell_type": "code",
   "execution_count": null,
   "metadata": {},
   "outputs": [],
   "source": [
    "print('Sensitive to clusters before:')\n",
    "print(d_sens_hist.sensitive_k.value_counts())\n",
    "print('Sensitive to clusters after:')\n",
    "print(d_sens_hist.sensitive_k_latest.value_counts())"
   ]
  },
  {
   "cell_type": "markdown",
   "metadata": {},
   "source": [
    "## Visualizations"
   ]
  },
  {
   "cell_type": "code",
   "execution_count": null,
   "metadata": {},
   "outputs": [],
   "source": [
    "import matplotlib.pyplot as plt\n",
    "import numpy as np\n",
    "from sklearn.decomposition import PCA\n",
    "import seaborn as sns"
   ]
  },
  {
   "cell_type": "code",
   "execution_count": null,
   "metadata": {},
   "outputs": [],
   "source": [
    "for k in range(K):\n",
    "    plot_c_PCA_latent(c_data, c_latent_list, c_meta_hist, n_rounds, legend_title='cluster', k=k, \n",
    "                      plot_save_path=f'scripts_model/plots/simu2_{num_cluster}clusters_c_latent_k{k}.png')"
   ]
  },
  {
   "cell_type": "code",
   "execution_count": null,
   "metadata": {},
   "outputs": [],
   "source": [
    "for k in range(K):\n",
    "    plot_d_PCA_latent(d_data, d_latent_list, d_sens_hist, n_rounds, legend_title='cluster', k=k, \n",
    "                      plot_save_path=f'scripts_model/plots/simu2_{num_cluster}clusters_d_latent_k{k}.png')"
   ]
  },
  {
   "cell_type": "code",
   "execution_count": null,
   "metadata": {},
   "outputs": [],
   "source": [
    "#print('round 1:')\n",
    "#print('k = 0:')\n",
    "#plot_training_losses(losses_train_hist_list[0][0], best_epoch_1round = best_epos_list[0][0])\n",
    "#print('k = 1:')\n",
    "#plot_training_losses(losses_train_hist_list[0][1], best_epoch_1round = best_epos_list[0][1])\n",
    "\n",
    "# print('round 1:')\n",
    "# print('k = 0:')\n",
    "# print('trainning set:')\n",
    "# plot_training_losses(losses_train_hist_list[0][0], best_epoch_1round = best_epos_list[0][0], train_hist = True, test_hist = False)\n",
    "# print('testing set:')\n",
    "# plot_training_losses(losses_train_hist_list[0][0], best_epoch_1round = best_epos_list[0][0], train_hist = False, test_hist = True)"
   ]
  },
  {
   "cell_type": "code",
   "execution_count": null,
   "metadata": {
    "scrolled": false
   },
   "outputs": [],
   "source": [
    "for k in range(K):\n",
    "    print(f'k = {k}:')\n",
    "    for b in range(n_rounds):\n",
    "        print(f'round {b}:')\n",
    "        plot_training_losses_train_test_2cols(losses_train_hist_list[b][k], best_epoch_1round = best_epos_list[b][k],\n",
    "                                              plot_save_path=f'scripts_model/plots/simu2_{num_cluster}clusters_losses_b{b}_k{k}.png')\n",
    "        "
   ]
  },
  {
   "cell_type": "code",
   "execution_count": null,
   "metadata": {},
   "outputs": [],
   "source": [
    "def plot_pre_training_losses_train_test_2cols(losses_train_hist_list_1round, best_epoch_1round = [], plot_save_path=''):\n",
    "    a_losses = losses_train_hist_list_1round[0]\n",
    "    c_losses = losses_train_hist_list_1round[1]\n",
    "    e_losses = losses_train_hist_list_1round[2]\n",
    "    g_losses = losses_train_hist_list_1round[3]\n",
    "    \n",
    "    fig, axs = plt.subplots(nrows=2, ncols=2, figsize=(10, 8))\n",
    "    fig.suptitle('')\n",
    "    \n",
    "    losses = losses_train_hist_list_1round[1]\n",
    "    axs[0,0].plot(losses[\"epoch\"], losses[\"prediction_loss_train_vector\"], label = \"prediction loss (train)\");\n",
    "    if best_epoch_1round != []:\n",
    "            axs[1,0].axvline(x=best_epoch_1round[1], color='r', linestyle='--')\n",
    "    axs[0,0].set_title('(c) D-VAE & Predictor losses [train]')\n",
    "\n",
    "    \n",
    "    axs[0,1].plot(losses[\"epoch\"], losses[\"prediction_loss_val_vector\"], label = \"prediction loss (test)\");\n",
    "    if best_epoch_1round != []:\n",
    "        axs[0,1].axvline(x=best_epoch_1round[1], color='r', linestyle='--')\n",
    "    axs[0,1].set_title('(c) D-VAE & Predictor losses [test]')\n",
    "    axs[0,1].legend(loc='center left', bbox_to_anchor=(1, 0.5))\n",
    "    \n",
    "\n",
    "    losses = losses_train_hist_list_1round[3]\n",
    "    axs[1,0].plot(losses[\"epoch\"], losses[\"prediction_loss_train_vector\"], label = \"prediction loss (train)\");\n",
    "    if best_epoch_1round != []:\n",
    "            axs[1,0].axvline(x=best_epoch_1round[3], color='r', linestyle='--')\n",
    "    axs[1,0].set_title('(g) C-VAE & Predictor losses [train]')\n",
    "    \n",
    "    axs[1,1].plot(losses[\"epoch\"], losses[\"prediction_loss_val_vector\"], label = \"prediction loss (test)\");\n",
    "    if best_epoch_1round != []:\n",
    "        axs[1,1].axvline(x=best_epoch_1round[3], color='r', linestyle='--')\n",
    "    axs[1,1].set_title('(g) C-VAE & Predictor losses [test]')\n",
    "    axs[1,1].legend(loc='center left', bbox_to_anchor=(1, 0.5))\n",
    "\n",
    "    plt.tight_layout()\n",
    "\n",
    "    if plot_save_path != '':\n",
    "        plt.savefig(plot_save_path, dpi=1200)\n",
    "\n",
    "    plt.show()\n",
    "\n",
    "\n",
    "\n",
    "\n",
    "\n",
    "\n"
   ]
  },
  {
   "cell_type": "code",
   "execution_count": null,
   "metadata": {
    "scrolled": false
   },
   "outputs": [],
   "source": [
    "for k in range(K):\n",
    "    print(f'k = {k}:')\n",
    "    for b in range(n_rounds):\n",
    "        print(f'round {b}:')\n",
    "        plot_pre_training_losses_train_test_2cols(losses_train_hist_list[b][k], best_epoch_1round = best_epos_list[b][k])\n",
    "        "
   ]
  }
 ],
 "metadata": {
  "kernelspec": {
   "display_name": "Python 3",
   "language": "python",
   "name": "python3"
  },
  "language_info": {
   "codemirror_mode": {
    "name": "ipython",
    "version": 3
   },
   "file_extension": ".py",
   "mimetype": "text/x-python",
   "name": "python",
   "nbconvert_exporter": "python",
   "pygments_lexer": "ipython3",
   "version": "3.8.8"
  }
 },
 "nbformat": 4,
 "nbformat_minor": 4
}
